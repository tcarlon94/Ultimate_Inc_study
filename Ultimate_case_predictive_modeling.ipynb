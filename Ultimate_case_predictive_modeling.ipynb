{
  "nbformat": 4,
  "nbformat_minor": 0,
  "metadata": {
    "colab": {
      "provenance": [],
      "authorship_tag": "ABX9TyMRq0HYva5993REXCbzcSGS",
      "include_colab_link": true
    },
    "kernelspec": {
      "name": "python3",
      "display_name": "Python 3"
    },
    "language_info": {
      "name": "python"
    }
  },
  "cells": [
    {
      "cell_type": "markdown",
      "metadata": {
        "id": "view-in-github",
        "colab_type": "text"
      },
      "source": [
        "<a href=\"https://colab.research.google.com/github/tcarlon94/Ultimate_Inc_study/blob/main/Ultimate_case_predictive_modeling.ipynb\" target=\"_parent\"><img src=\"https://colab.research.google.com/assets/colab-badge.svg\" alt=\"Open In Colab\"/></a>"
      ]
    },
    {
      "cell_type": "markdown",
      "source": [
        "# Ultimate Case Study - Predictive Modeling\n",
        "# Predict Rider Retention"
      ],
      "metadata": {
        "id": "nJROtzV2w9op"
      }
    },
    {
      "cell_type": "markdown",
      "source": [
        "## Data description\n",
        "● city: city this user signed up in\n",
        "\n",
        "● phone: primary device for this user\n",
        "\n",
        "● signup_date: date of account registration; in the form ‘YYYYMMDD’\n",
        "\n",
        "● last_trip_date: the last time this user completed a trip; in the form ‘YYYYMMDD’\n",
        "\n",
        "● avg_dist: the average distance in miles per trip taken in the first 30 days after signup\n",
        "\n",
        "● avg_rating_by_driver: the rider’s average rating over all of their trips\n",
        "\n",
        "● avg_rating_of_driver: the rider’s average rating of their drivers over all of their trips\n",
        "\n",
        "● surge_pct: the percent of trips taken with surge multiplier > 1\n",
        "\n",
        "● avg_surge: The average surge multiplier over all of this user’s trips\n",
        "\n",
        "● trips_in_first_30_days: the number of trips this user took in the first 30 days after signing up\n",
        "\n",
        "● ultimate_otherwise_black_user: TRUE if the user took an Ultimate Black in their first 30 days; FALSE\n",
        "\n",
        "● weekday_pct: the percent of the user’s trips occurring during a weekday"
      ],
      "metadata": {
        "id": "beaTL7H_x5KB"
      }
    },
    {
      "cell_type": "markdown",
      "source": [
        "## Import Modules"
      ],
      "metadata": {
        "id": "spBl0WYOxoJ2"
      }
    },
    {
      "cell_type": "code",
      "source": [
        "import pandas as pd\n",
        "import numpy as np\n",
        "import seaborn as sns\n",
        "import matplotlib.pyplot as plt\n",
        "import datetime as dt"
      ],
      "metadata": {
        "id": "ceHkqqHexnsi"
      },
      "execution_count": 1,
      "outputs": []
    },
    {
      "cell_type": "markdown",
      "source": [
        "## Load & Explore data"
      ],
      "metadata": {
        "id": "U7YcjIkPxXiR"
      }
    },
    {
      "cell_type": "code",
      "execution_count": 2,
      "metadata": {
        "id": "5aP2sOUyw6JD"
      },
      "outputs": [],
      "source": [
        "# Load file\n",
        "file_name = 'ultimate_data_challenge.json'\n",
        "df = pd.read_json(file_name)"
      ]
    },
    {
      "cell_type": "code",
      "source": [
        "df.head()"
      ],
      "metadata": {
        "colab": {
          "base_uri": "https://localhost:8080/",
          "height": 261
        },
        "id": "W0O41PYSxye-",
        "outputId": "aa5692ff-e2a3-478c-c85a-67b17fab823e"
      },
      "execution_count": 3,
      "outputs": [
        {
          "output_type": "execute_result",
          "data": {
            "text/plain": [
              "             city  trips_in_first_30_days signup_date  avg_rating_of_driver  \\\n",
              "0  King's Landing                       4  2014-01-25                   4.7   \n",
              "1         Astapor                       0  2014-01-29                   5.0   \n",
              "2         Astapor                       3  2014-01-06                   4.3   \n",
              "3  King's Landing                       9  2014-01-10                   4.6   \n",
              "4      Winterfell                      14  2014-01-27                   4.4   \n",
              "\n",
              "   avg_surge last_trip_date    phone  surge_pct  ultimate_black_user  \\\n",
              "0       1.10     2014-06-17   iPhone       15.4                 True   \n",
              "1       1.00     2014-05-05  Android        0.0                False   \n",
              "2       1.00     2014-01-07   iPhone        0.0                False   \n",
              "3       1.14     2014-06-29   iPhone       20.0                 True   \n",
              "4       1.19     2014-03-15  Android       11.8                False   \n",
              "\n",
              "   weekday_pct  avg_dist  avg_rating_by_driver  \n",
              "0         46.2      3.67                   5.0  \n",
              "1         50.0      8.26                   5.0  \n",
              "2        100.0      0.77                   5.0  \n",
              "3         80.0      2.36                   4.9  \n",
              "4         82.4      3.13                   4.9  "
            ],
            "text/html": [
              "\n",
              "  <div id=\"df-a0df6c32-a6bd-406b-a9cb-ea120c68716c\" class=\"colab-df-container\">\n",
              "    <div>\n",
              "<style scoped>\n",
              "    .dataframe tbody tr th:only-of-type {\n",
              "        vertical-align: middle;\n",
              "    }\n",
              "\n",
              "    .dataframe tbody tr th {\n",
              "        vertical-align: top;\n",
              "    }\n",
              "\n",
              "    .dataframe thead th {\n",
              "        text-align: right;\n",
              "    }\n",
              "</style>\n",
              "<table border=\"1\" class=\"dataframe\">\n",
              "  <thead>\n",
              "    <tr style=\"text-align: right;\">\n",
              "      <th></th>\n",
              "      <th>city</th>\n",
              "      <th>trips_in_first_30_days</th>\n",
              "      <th>signup_date</th>\n",
              "      <th>avg_rating_of_driver</th>\n",
              "      <th>avg_surge</th>\n",
              "      <th>last_trip_date</th>\n",
              "      <th>phone</th>\n",
              "      <th>surge_pct</th>\n",
              "      <th>ultimate_black_user</th>\n",
              "      <th>weekday_pct</th>\n",
              "      <th>avg_dist</th>\n",
              "      <th>avg_rating_by_driver</th>\n",
              "    </tr>\n",
              "  </thead>\n",
              "  <tbody>\n",
              "    <tr>\n",
              "      <th>0</th>\n",
              "      <td>King's Landing</td>\n",
              "      <td>4</td>\n",
              "      <td>2014-01-25</td>\n",
              "      <td>4.7</td>\n",
              "      <td>1.10</td>\n",
              "      <td>2014-06-17</td>\n",
              "      <td>iPhone</td>\n",
              "      <td>15.4</td>\n",
              "      <td>True</td>\n",
              "      <td>46.2</td>\n",
              "      <td>3.67</td>\n",
              "      <td>5.0</td>\n",
              "    </tr>\n",
              "    <tr>\n",
              "      <th>1</th>\n",
              "      <td>Astapor</td>\n",
              "      <td>0</td>\n",
              "      <td>2014-01-29</td>\n",
              "      <td>5.0</td>\n",
              "      <td>1.00</td>\n",
              "      <td>2014-05-05</td>\n",
              "      <td>Android</td>\n",
              "      <td>0.0</td>\n",
              "      <td>False</td>\n",
              "      <td>50.0</td>\n",
              "      <td>8.26</td>\n",
              "      <td>5.0</td>\n",
              "    </tr>\n",
              "    <tr>\n",
              "      <th>2</th>\n",
              "      <td>Astapor</td>\n",
              "      <td>3</td>\n",
              "      <td>2014-01-06</td>\n",
              "      <td>4.3</td>\n",
              "      <td>1.00</td>\n",
              "      <td>2014-01-07</td>\n",
              "      <td>iPhone</td>\n",
              "      <td>0.0</td>\n",
              "      <td>False</td>\n",
              "      <td>100.0</td>\n",
              "      <td>0.77</td>\n",
              "      <td>5.0</td>\n",
              "    </tr>\n",
              "    <tr>\n",
              "      <th>3</th>\n",
              "      <td>King's Landing</td>\n",
              "      <td>9</td>\n",
              "      <td>2014-01-10</td>\n",
              "      <td>4.6</td>\n",
              "      <td>1.14</td>\n",
              "      <td>2014-06-29</td>\n",
              "      <td>iPhone</td>\n",
              "      <td>20.0</td>\n",
              "      <td>True</td>\n",
              "      <td>80.0</td>\n",
              "      <td>2.36</td>\n",
              "      <td>4.9</td>\n",
              "    </tr>\n",
              "    <tr>\n",
              "      <th>4</th>\n",
              "      <td>Winterfell</td>\n",
              "      <td>14</td>\n",
              "      <td>2014-01-27</td>\n",
              "      <td>4.4</td>\n",
              "      <td>1.19</td>\n",
              "      <td>2014-03-15</td>\n",
              "      <td>Android</td>\n",
              "      <td>11.8</td>\n",
              "      <td>False</td>\n",
              "      <td>82.4</td>\n",
              "      <td>3.13</td>\n",
              "      <td>4.9</td>\n",
              "    </tr>\n",
              "  </tbody>\n",
              "</table>\n",
              "</div>\n",
              "    <div class=\"colab-df-buttons\">\n",
              "\n",
              "  <div class=\"colab-df-container\">\n",
              "    <button class=\"colab-df-convert\" onclick=\"convertToInteractive('df-a0df6c32-a6bd-406b-a9cb-ea120c68716c')\"\n",
              "            title=\"Convert this dataframe to an interactive table.\"\n",
              "            style=\"display:none;\">\n",
              "\n",
              "  <svg xmlns=\"http://www.w3.org/2000/svg\" height=\"24px\" viewBox=\"0 -960 960 960\">\n",
              "    <path d=\"M120-120v-720h720v720H120Zm60-500h600v-160H180v160Zm220 220h160v-160H400v160Zm0 220h160v-160H400v160ZM180-400h160v-160H180v160Zm440 0h160v-160H620v160ZM180-180h160v-160H180v160Zm440 0h160v-160H620v160Z\"/>\n",
              "  </svg>\n",
              "    </button>\n",
              "\n",
              "  <style>\n",
              "    .colab-df-container {\n",
              "      display:flex;\n",
              "      gap: 12px;\n",
              "    }\n",
              "\n",
              "    .colab-df-convert {\n",
              "      background-color: #E8F0FE;\n",
              "      border: none;\n",
              "      border-radius: 50%;\n",
              "      cursor: pointer;\n",
              "      display: none;\n",
              "      fill: #1967D2;\n",
              "      height: 32px;\n",
              "      padding: 0 0 0 0;\n",
              "      width: 32px;\n",
              "    }\n",
              "\n",
              "    .colab-df-convert:hover {\n",
              "      background-color: #E2EBFA;\n",
              "      box-shadow: 0px 1px 2px rgba(60, 64, 67, 0.3), 0px 1px 3px 1px rgba(60, 64, 67, 0.15);\n",
              "      fill: #174EA6;\n",
              "    }\n",
              "\n",
              "    .colab-df-buttons div {\n",
              "      margin-bottom: 4px;\n",
              "    }\n",
              "\n",
              "    [theme=dark] .colab-df-convert {\n",
              "      background-color: #3B4455;\n",
              "      fill: #D2E3FC;\n",
              "    }\n",
              "\n",
              "    [theme=dark] .colab-df-convert:hover {\n",
              "      background-color: #434B5C;\n",
              "      box-shadow: 0px 1px 3px 1px rgba(0, 0, 0, 0.15);\n",
              "      filter: drop-shadow(0px 1px 2px rgba(0, 0, 0, 0.3));\n",
              "      fill: #FFFFFF;\n",
              "    }\n",
              "  </style>\n",
              "\n",
              "    <script>\n",
              "      const buttonEl =\n",
              "        document.querySelector('#df-a0df6c32-a6bd-406b-a9cb-ea120c68716c button.colab-df-convert');\n",
              "      buttonEl.style.display =\n",
              "        google.colab.kernel.accessAllowed ? 'block' : 'none';\n",
              "\n",
              "      async function convertToInteractive(key) {\n",
              "        const element = document.querySelector('#df-a0df6c32-a6bd-406b-a9cb-ea120c68716c');\n",
              "        const dataTable =\n",
              "          await google.colab.kernel.invokeFunction('convertToInteractive',\n",
              "                                                    [key], {});\n",
              "        if (!dataTable) return;\n",
              "\n",
              "        const docLinkHtml = 'Like what you see? Visit the ' +\n",
              "          '<a target=\"_blank\" href=https://colab.research.google.com/notebooks/data_table.ipynb>data table notebook</a>'\n",
              "          + ' to learn more about interactive tables.';\n",
              "        element.innerHTML = '';\n",
              "        dataTable['output_type'] = 'display_data';\n",
              "        await google.colab.output.renderOutput(dataTable, element);\n",
              "        const docLink = document.createElement('div');\n",
              "        docLink.innerHTML = docLinkHtml;\n",
              "        element.appendChild(docLink);\n",
              "      }\n",
              "    </script>\n",
              "  </div>\n",
              "\n",
              "\n",
              "    <div id=\"df-2f9e316f-d13e-4b78-9ba4-a1ca495e3bd5\">\n",
              "      <button class=\"colab-df-quickchart\" onclick=\"quickchart('df-2f9e316f-d13e-4b78-9ba4-a1ca495e3bd5')\"\n",
              "                title=\"Suggest charts\"\n",
              "                style=\"display:none;\">\n",
              "\n",
              "<svg xmlns=\"http://www.w3.org/2000/svg\" height=\"24px\"viewBox=\"0 0 24 24\"\n",
              "     width=\"24px\">\n",
              "    <g>\n",
              "        <path d=\"M19 3H5c-1.1 0-2 .9-2 2v14c0 1.1.9 2 2 2h14c1.1 0 2-.9 2-2V5c0-1.1-.9-2-2-2zM9 17H7v-7h2v7zm4 0h-2V7h2v10zm4 0h-2v-4h2v4z\"/>\n",
              "    </g>\n",
              "</svg>\n",
              "      </button>\n",
              "\n",
              "<style>\n",
              "  .colab-df-quickchart {\n",
              "      --bg-color: #E8F0FE;\n",
              "      --fill-color: #1967D2;\n",
              "      --hover-bg-color: #E2EBFA;\n",
              "      --hover-fill-color: #174EA6;\n",
              "      --disabled-fill-color: #AAA;\n",
              "      --disabled-bg-color: #DDD;\n",
              "  }\n",
              "\n",
              "  [theme=dark] .colab-df-quickchart {\n",
              "      --bg-color: #3B4455;\n",
              "      --fill-color: #D2E3FC;\n",
              "      --hover-bg-color: #434B5C;\n",
              "      --hover-fill-color: #FFFFFF;\n",
              "      --disabled-bg-color: #3B4455;\n",
              "      --disabled-fill-color: #666;\n",
              "  }\n",
              "\n",
              "  .colab-df-quickchart {\n",
              "    background-color: var(--bg-color);\n",
              "    border: none;\n",
              "    border-radius: 50%;\n",
              "    cursor: pointer;\n",
              "    display: none;\n",
              "    fill: var(--fill-color);\n",
              "    height: 32px;\n",
              "    padding: 0;\n",
              "    width: 32px;\n",
              "  }\n",
              "\n",
              "  .colab-df-quickchart:hover {\n",
              "    background-color: var(--hover-bg-color);\n",
              "    box-shadow: 0 1px 2px rgba(60, 64, 67, 0.3), 0 1px 3px 1px rgba(60, 64, 67, 0.15);\n",
              "    fill: var(--button-hover-fill-color);\n",
              "  }\n",
              "\n",
              "  .colab-df-quickchart-complete:disabled,\n",
              "  .colab-df-quickchart-complete:disabled:hover {\n",
              "    background-color: var(--disabled-bg-color);\n",
              "    fill: var(--disabled-fill-color);\n",
              "    box-shadow: none;\n",
              "  }\n",
              "\n",
              "  .colab-df-spinner {\n",
              "    border: 2px solid var(--fill-color);\n",
              "    border-color: transparent;\n",
              "    border-bottom-color: var(--fill-color);\n",
              "    animation:\n",
              "      spin 1s steps(1) infinite;\n",
              "  }\n",
              "\n",
              "  @keyframes spin {\n",
              "    0% {\n",
              "      border-color: transparent;\n",
              "      border-bottom-color: var(--fill-color);\n",
              "      border-left-color: var(--fill-color);\n",
              "    }\n",
              "    20% {\n",
              "      border-color: transparent;\n",
              "      border-left-color: var(--fill-color);\n",
              "      border-top-color: var(--fill-color);\n",
              "    }\n",
              "    30% {\n",
              "      border-color: transparent;\n",
              "      border-left-color: var(--fill-color);\n",
              "      border-top-color: var(--fill-color);\n",
              "      border-right-color: var(--fill-color);\n",
              "    }\n",
              "    40% {\n",
              "      border-color: transparent;\n",
              "      border-right-color: var(--fill-color);\n",
              "      border-top-color: var(--fill-color);\n",
              "    }\n",
              "    60% {\n",
              "      border-color: transparent;\n",
              "      border-right-color: var(--fill-color);\n",
              "    }\n",
              "    80% {\n",
              "      border-color: transparent;\n",
              "      border-right-color: var(--fill-color);\n",
              "      border-bottom-color: var(--fill-color);\n",
              "    }\n",
              "    90% {\n",
              "      border-color: transparent;\n",
              "      border-bottom-color: var(--fill-color);\n",
              "    }\n",
              "  }\n",
              "</style>\n",
              "\n",
              "      <script>\n",
              "        async function quickchart(key) {\n",
              "          const quickchartButtonEl =\n",
              "            document.querySelector('#' + key + ' button');\n",
              "          quickchartButtonEl.disabled = true;  // To prevent multiple clicks.\n",
              "          quickchartButtonEl.classList.add('colab-df-spinner');\n",
              "          try {\n",
              "            const charts = await google.colab.kernel.invokeFunction(\n",
              "                'suggestCharts', [key], {});\n",
              "          } catch (error) {\n",
              "            console.error('Error during call to suggestCharts:', error);\n",
              "          }\n",
              "          quickchartButtonEl.classList.remove('colab-df-spinner');\n",
              "          quickchartButtonEl.classList.add('colab-df-quickchart-complete');\n",
              "        }\n",
              "        (() => {\n",
              "          let quickchartButtonEl =\n",
              "            document.querySelector('#df-2f9e316f-d13e-4b78-9ba4-a1ca495e3bd5 button');\n",
              "          quickchartButtonEl.style.display =\n",
              "            google.colab.kernel.accessAllowed ? 'block' : 'none';\n",
              "        })();\n",
              "      </script>\n",
              "    </div>\n",
              "\n",
              "    </div>\n",
              "  </div>\n"
            ],
            "application/vnd.google.colaboratory.intrinsic+json": {
              "type": "dataframe",
              "variable_name": "df",
              "summary": "{\n  \"name\": \"df\",\n  \"rows\": 50000,\n  \"fields\": [\n    {\n      \"column\": \"city\",\n      \"properties\": {\n        \"dtype\": \"category\",\n        \"num_unique_values\": 3,\n        \"samples\": [\n          \"King's Landing\",\n          \"Astapor\",\n          \"Winterfell\"\n        ],\n        \"semantic_type\": \"\",\n        \"description\": \"\"\n      }\n    },\n    {\n      \"column\": \"trips_in_first_30_days\",\n      \"properties\": {\n        \"dtype\": \"number\",\n        \"std\": 3,\n        \"min\": 0,\n        \"max\": 125,\n        \"num_unique_values\": 59,\n        \"samples\": [\n          4,\n          2,\n          25\n        ],\n        \"semantic_type\": \"\",\n        \"description\": \"\"\n      }\n    },\n    {\n      \"column\": \"signup_date\",\n      \"properties\": {\n        \"dtype\": \"object\",\n        \"num_unique_values\": 31,\n        \"samples\": [\n          \"2014-01-01\",\n          \"2014-01-31\",\n          \"2014-01-20\"\n        ],\n        \"semantic_type\": \"\",\n        \"description\": \"\"\n      }\n    },\n    {\n      \"column\": \"avg_rating_of_driver\",\n      \"properties\": {\n        \"dtype\": \"number\",\n        \"std\": 0.6173384560412452,\n        \"min\": 1.0,\n        \"max\": 5.0,\n        \"num_unique_values\": 37,\n        \"samples\": [\n          3.8,\n          1.0,\n          4.4\n        ],\n        \"semantic_type\": \"\",\n        \"description\": \"\"\n      }\n    },\n    {\n      \"column\": \"avg_surge\",\n      \"properties\": {\n        \"dtype\": \"number\",\n        \"std\": 0.22233600894947136,\n        \"min\": 1.0,\n        \"max\": 8.0,\n        \"num_unique_values\": 115,\n        \"samples\": [\n          1.3900000000000001,\n          1.38,\n          1.45\n        ],\n        \"semantic_type\": \"\",\n        \"description\": \"\"\n      }\n    },\n    {\n      \"column\": \"last_trip_date\",\n      \"properties\": {\n        \"dtype\": \"object\",\n        \"num_unique_values\": 182,\n        \"samples\": [\n          \"2014-06-03\",\n          \"2014-06-18\",\n          \"2014-02-12\"\n        ],\n        \"semantic_type\": \"\",\n        \"description\": \"\"\n      }\n    },\n    {\n      \"column\": \"phone\",\n      \"properties\": {\n        \"dtype\": \"category\",\n        \"num_unique_values\": 2,\n        \"samples\": [\n          \"Android\",\n          \"iPhone\"\n        ],\n        \"semantic_type\": \"\",\n        \"description\": \"\"\n      }\n    },\n    {\n      \"column\": \"surge_pct\",\n      \"properties\": {\n        \"dtype\": \"number\",\n        \"std\": 19.958810898132896,\n        \"min\": 0.0,\n        \"max\": 100.0,\n        \"num_unique_values\": 367,\n        \"samples\": [\n          10.8,\n          7.7\n        ],\n        \"semantic_type\": \"\",\n        \"description\": \"\"\n      }\n    },\n    {\n      \"column\": \"ultimate_black_user\",\n      \"properties\": {\n        \"dtype\": \"boolean\",\n        \"num_unique_values\": 2,\n        \"samples\": [\n          false,\n          true\n        ],\n        \"semantic_type\": \"\",\n        \"description\": \"\"\n      }\n    },\n    {\n      \"column\": \"weekday_pct\",\n      \"properties\": {\n        \"dtype\": \"number\",\n        \"std\": 37.081503405109224,\n        \"min\": 0.0,\n        \"max\": 100.0,\n        \"num_unique_values\": 666,\n        \"samples\": [\n          94.5,\n          86.1\n        ],\n        \"semantic_type\": \"\",\n        \"description\": \"\"\n      }\n    },\n    {\n      \"column\": \"avg_dist\",\n      \"properties\": {\n        \"dtype\": \"number\",\n        \"std\": 5.707356703233332,\n        \"min\": 0.0,\n        \"max\": 160.96,\n        \"num_unique_values\": 2908,\n        \"samples\": [\n          13.89,\n          5.67\n        ],\n        \"semantic_type\": \"\",\n        \"description\": \"\"\n      }\n    },\n    {\n      \"column\": \"avg_rating_by_driver\",\n      \"properties\": {\n        \"dtype\": \"number\",\n        \"std\": 0.4466517934657271,\n        \"min\": 1.0,\n        \"max\": 5.0,\n        \"num_unique_values\": 27,\n        \"samples\": [\n          4.4,\n          2.0\n        ],\n        \"semantic_type\": \"\",\n        \"description\": \"\"\n      }\n    }\n  ]\n}"
            }
          },
          "metadata": {},
          "execution_count": 3
        }
      ]
    },
    {
      "cell_type": "code",
      "source": [
        "df.info()"
      ],
      "metadata": {
        "colab": {
          "base_uri": "https://localhost:8080/"
        },
        "id": "24HBxj-wxzsq",
        "outputId": "36ce3600-885c-4e02-fb50-10f656fab18d"
      },
      "execution_count": 4,
      "outputs": [
        {
          "output_type": "stream",
          "name": "stdout",
          "text": [
            "<class 'pandas.core.frame.DataFrame'>\n",
            "RangeIndex: 50000 entries, 0 to 49999\n",
            "Data columns (total 12 columns):\n",
            " #   Column                  Non-Null Count  Dtype  \n",
            "---  ------                  --------------  -----  \n",
            " 0   city                    50000 non-null  object \n",
            " 1   trips_in_first_30_days  50000 non-null  int64  \n",
            " 2   signup_date             50000 non-null  object \n",
            " 3   avg_rating_of_driver    41878 non-null  float64\n",
            " 4   avg_surge               50000 non-null  float64\n",
            " 5   last_trip_date          50000 non-null  object \n",
            " 6   phone                   49604 non-null  object \n",
            " 7   surge_pct               50000 non-null  float64\n",
            " 8   ultimate_black_user     50000 non-null  bool   \n",
            " 9   weekday_pct             50000 non-null  float64\n",
            " 10  avg_dist                50000 non-null  float64\n",
            " 11  avg_rating_by_driver    49799 non-null  float64\n",
            "dtypes: bool(1), float64(6), int64(1), object(4)\n",
            "memory usage: 4.2+ MB\n"
          ]
        }
      ]
    },
    {
      "cell_type": "markdown",
      "source": [
        "Looks like there are some null values in average rating for both driver and passenger and phone. We will take care of these in data cleaning"
      ],
      "metadata": {
        "id": "eSZjuiKRzMPa"
      }
    },
    {
      "cell_type": "code",
      "source": [
        "df.describe()"
      ],
      "metadata": {
        "colab": {
          "base_uri": "https://localhost:8080/",
          "height": 320
        },
        "id": "wVNNcdXUzXjq",
        "outputId": "7b3adebd-676e-4deb-f58d-a7b3ab0f5db2"
      },
      "execution_count": 5,
      "outputs": [
        {
          "output_type": "execute_result",
          "data": {
            "text/plain": [
              "       trips_in_first_30_days  avg_rating_of_driver     avg_surge  \\\n",
              "count            50000.000000          41878.000000  50000.000000   \n",
              "mean                 2.278200              4.601559      1.074764   \n",
              "std                  3.792684              0.617338      0.222336   \n",
              "min                  0.000000              1.000000      1.000000   \n",
              "25%                  0.000000              4.300000      1.000000   \n",
              "50%                  1.000000              4.900000      1.000000   \n",
              "75%                  3.000000              5.000000      1.050000   \n",
              "max                125.000000              5.000000      8.000000   \n",
              "\n",
              "          surge_pct   weekday_pct      avg_dist  avg_rating_by_driver  \n",
              "count  50000.000000  50000.000000  50000.000000          49799.000000  \n",
              "mean       8.849536     60.926084      5.796827              4.778158  \n",
              "std       19.958811     37.081503      5.707357              0.446652  \n",
              "min        0.000000      0.000000      0.000000              1.000000  \n",
              "25%        0.000000     33.300000      2.420000              4.700000  \n",
              "50%        0.000000     66.700000      3.880000              5.000000  \n",
              "75%        8.600000    100.000000      6.940000              5.000000  \n",
              "max      100.000000    100.000000    160.960000              5.000000  "
            ],
            "text/html": [
              "\n",
              "  <div id=\"df-eeaaf5b5-758c-41e0-b075-32f33a2b39d4\" class=\"colab-df-container\">\n",
              "    <div>\n",
              "<style scoped>\n",
              "    .dataframe tbody tr th:only-of-type {\n",
              "        vertical-align: middle;\n",
              "    }\n",
              "\n",
              "    .dataframe tbody tr th {\n",
              "        vertical-align: top;\n",
              "    }\n",
              "\n",
              "    .dataframe thead th {\n",
              "        text-align: right;\n",
              "    }\n",
              "</style>\n",
              "<table border=\"1\" class=\"dataframe\">\n",
              "  <thead>\n",
              "    <tr style=\"text-align: right;\">\n",
              "      <th></th>\n",
              "      <th>trips_in_first_30_days</th>\n",
              "      <th>avg_rating_of_driver</th>\n",
              "      <th>avg_surge</th>\n",
              "      <th>surge_pct</th>\n",
              "      <th>weekday_pct</th>\n",
              "      <th>avg_dist</th>\n",
              "      <th>avg_rating_by_driver</th>\n",
              "    </tr>\n",
              "  </thead>\n",
              "  <tbody>\n",
              "    <tr>\n",
              "      <th>count</th>\n",
              "      <td>50000.000000</td>\n",
              "      <td>41878.000000</td>\n",
              "      <td>50000.000000</td>\n",
              "      <td>50000.000000</td>\n",
              "      <td>50000.000000</td>\n",
              "      <td>50000.000000</td>\n",
              "      <td>49799.000000</td>\n",
              "    </tr>\n",
              "    <tr>\n",
              "      <th>mean</th>\n",
              "      <td>2.278200</td>\n",
              "      <td>4.601559</td>\n",
              "      <td>1.074764</td>\n",
              "      <td>8.849536</td>\n",
              "      <td>60.926084</td>\n",
              "      <td>5.796827</td>\n",
              "      <td>4.778158</td>\n",
              "    </tr>\n",
              "    <tr>\n",
              "      <th>std</th>\n",
              "      <td>3.792684</td>\n",
              "      <td>0.617338</td>\n",
              "      <td>0.222336</td>\n",
              "      <td>19.958811</td>\n",
              "      <td>37.081503</td>\n",
              "      <td>5.707357</td>\n",
              "      <td>0.446652</td>\n",
              "    </tr>\n",
              "    <tr>\n",
              "      <th>min</th>\n",
              "      <td>0.000000</td>\n",
              "      <td>1.000000</td>\n",
              "      <td>1.000000</td>\n",
              "      <td>0.000000</td>\n",
              "      <td>0.000000</td>\n",
              "      <td>0.000000</td>\n",
              "      <td>1.000000</td>\n",
              "    </tr>\n",
              "    <tr>\n",
              "      <th>25%</th>\n",
              "      <td>0.000000</td>\n",
              "      <td>4.300000</td>\n",
              "      <td>1.000000</td>\n",
              "      <td>0.000000</td>\n",
              "      <td>33.300000</td>\n",
              "      <td>2.420000</td>\n",
              "      <td>4.700000</td>\n",
              "    </tr>\n",
              "    <tr>\n",
              "      <th>50%</th>\n",
              "      <td>1.000000</td>\n",
              "      <td>4.900000</td>\n",
              "      <td>1.000000</td>\n",
              "      <td>0.000000</td>\n",
              "      <td>66.700000</td>\n",
              "      <td>3.880000</td>\n",
              "      <td>5.000000</td>\n",
              "    </tr>\n",
              "    <tr>\n",
              "      <th>75%</th>\n",
              "      <td>3.000000</td>\n",
              "      <td>5.000000</td>\n",
              "      <td>1.050000</td>\n",
              "      <td>8.600000</td>\n",
              "      <td>100.000000</td>\n",
              "      <td>6.940000</td>\n",
              "      <td>5.000000</td>\n",
              "    </tr>\n",
              "    <tr>\n",
              "      <th>max</th>\n",
              "      <td>125.000000</td>\n",
              "      <td>5.000000</td>\n",
              "      <td>8.000000</td>\n",
              "      <td>100.000000</td>\n",
              "      <td>100.000000</td>\n",
              "      <td>160.960000</td>\n",
              "      <td>5.000000</td>\n",
              "    </tr>\n",
              "  </tbody>\n",
              "</table>\n",
              "</div>\n",
              "    <div class=\"colab-df-buttons\">\n",
              "\n",
              "  <div class=\"colab-df-container\">\n",
              "    <button class=\"colab-df-convert\" onclick=\"convertToInteractive('df-eeaaf5b5-758c-41e0-b075-32f33a2b39d4')\"\n",
              "            title=\"Convert this dataframe to an interactive table.\"\n",
              "            style=\"display:none;\">\n",
              "\n",
              "  <svg xmlns=\"http://www.w3.org/2000/svg\" height=\"24px\" viewBox=\"0 -960 960 960\">\n",
              "    <path d=\"M120-120v-720h720v720H120Zm60-500h600v-160H180v160Zm220 220h160v-160H400v160Zm0 220h160v-160H400v160ZM180-400h160v-160H180v160Zm440 0h160v-160H620v160ZM180-180h160v-160H180v160Zm440 0h160v-160H620v160Z\"/>\n",
              "  </svg>\n",
              "    </button>\n",
              "\n",
              "  <style>\n",
              "    .colab-df-container {\n",
              "      display:flex;\n",
              "      gap: 12px;\n",
              "    }\n",
              "\n",
              "    .colab-df-convert {\n",
              "      background-color: #E8F0FE;\n",
              "      border: none;\n",
              "      border-radius: 50%;\n",
              "      cursor: pointer;\n",
              "      display: none;\n",
              "      fill: #1967D2;\n",
              "      height: 32px;\n",
              "      padding: 0 0 0 0;\n",
              "      width: 32px;\n",
              "    }\n",
              "\n",
              "    .colab-df-convert:hover {\n",
              "      background-color: #E2EBFA;\n",
              "      box-shadow: 0px 1px 2px rgba(60, 64, 67, 0.3), 0px 1px 3px 1px rgba(60, 64, 67, 0.15);\n",
              "      fill: #174EA6;\n",
              "    }\n",
              "\n",
              "    .colab-df-buttons div {\n",
              "      margin-bottom: 4px;\n",
              "    }\n",
              "\n",
              "    [theme=dark] .colab-df-convert {\n",
              "      background-color: #3B4455;\n",
              "      fill: #D2E3FC;\n",
              "    }\n",
              "\n",
              "    [theme=dark] .colab-df-convert:hover {\n",
              "      background-color: #434B5C;\n",
              "      box-shadow: 0px 1px 3px 1px rgba(0, 0, 0, 0.15);\n",
              "      filter: drop-shadow(0px 1px 2px rgba(0, 0, 0, 0.3));\n",
              "      fill: #FFFFFF;\n",
              "    }\n",
              "  </style>\n",
              "\n",
              "    <script>\n",
              "      const buttonEl =\n",
              "        document.querySelector('#df-eeaaf5b5-758c-41e0-b075-32f33a2b39d4 button.colab-df-convert');\n",
              "      buttonEl.style.display =\n",
              "        google.colab.kernel.accessAllowed ? 'block' : 'none';\n",
              "\n",
              "      async function convertToInteractive(key) {\n",
              "        const element = document.querySelector('#df-eeaaf5b5-758c-41e0-b075-32f33a2b39d4');\n",
              "        const dataTable =\n",
              "          await google.colab.kernel.invokeFunction('convertToInteractive',\n",
              "                                                    [key], {});\n",
              "        if (!dataTable) return;\n",
              "\n",
              "        const docLinkHtml = 'Like what you see? Visit the ' +\n",
              "          '<a target=\"_blank\" href=https://colab.research.google.com/notebooks/data_table.ipynb>data table notebook</a>'\n",
              "          + ' to learn more about interactive tables.';\n",
              "        element.innerHTML = '';\n",
              "        dataTable['output_type'] = 'display_data';\n",
              "        await google.colab.output.renderOutput(dataTable, element);\n",
              "        const docLink = document.createElement('div');\n",
              "        docLink.innerHTML = docLinkHtml;\n",
              "        element.appendChild(docLink);\n",
              "      }\n",
              "    </script>\n",
              "  </div>\n",
              "\n",
              "\n",
              "    <div id=\"df-f8133940-98e1-40b3-b86c-8e066897a545\">\n",
              "      <button class=\"colab-df-quickchart\" onclick=\"quickchart('df-f8133940-98e1-40b3-b86c-8e066897a545')\"\n",
              "                title=\"Suggest charts\"\n",
              "                style=\"display:none;\">\n",
              "\n",
              "<svg xmlns=\"http://www.w3.org/2000/svg\" height=\"24px\"viewBox=\"0 0 24 24\"\n",
              "     width=\"24px\">\n",
              "    <g>\n",
              "        <path d=\"M19 3H5c-1.1 0-2 .9-2 2v14c0 1.1.9 2 2 2h14c1.1 0 2-.9 2-2V5c0-1.1-.9-2-2-2zM9 17H7v-7h2v7zm4 0h-2V7h2v10zm4 0h-2v-4h2v4z\"/>\n",
              "    </g>\n",
              "</svg>\n",
              "      </button>\n",
              "\n",
              "<style>\n",
              "  .colab-df-quickchart {\n",
              "      --bg-color: #E8F0FE;\n",
              "      --fill-color: #1967D2;\n",
              "      --hover-bg-color: #E2EBFA;\n",
              "      --hover-fill-color: #174EA6;\n",
              "      --disabled-fill-color: #AAA;\n",
              "      --disabled-bg-color: #DDD;\n",
              "  }\n",
              "\n",
              "  [theme=dark] .colab-df-quickchart {\n",
              "      --bg-color: #3B4455;\n",
              "      --fill-color: #D2E3FC;\n",
              "      --hover-bg-color: #434B5C;\n",
              "      --hover-fill-color: #FFFFFF;\n",
              "      --disabled-bg-color: #3B4455;\n",
              "      --disabled-fill-color: #666;\n",
              "  }\n",
              "\n",
              "  .colab-df-quickchart {\n",
              "    background-color: var(--bg-color);\n",
              "    border: none;\n",
              "    border-radius: 50%;\n",
              "    cursor: pointer;\n",
              "    display: none;\n",
              "    fill: var(--fill-color);\n",
              "    height: 32px;\n",
              "    padding: 0;\n",
              "    width: 32px;\n",
              "  }\n",
              "\n",
              "  .colab-df-quickchart:hover {\n",
              "    background-color: var(--hover-bg-color);\n",
              "    box-shadow: 0 1px 2px rgba(60, 64, 67, 0.3), 0 1px 3px 1px rgba(60, 64, 67, 0.15);\n",
              "    fill: var(--button-hover-fill-color);\n",
              "  }\n",
              "\n",
              "  .colab-df-quickchart-complete:disabled,\n",
              "  .colab-df-quickchart-complete:disabled:hover {\n",
              "    background-color: var(--disabled-bg-color);\n",
              "    fill: var(--disabled-fill-color);\n",
              "    box-shadow: none;\n",
              "  }\n",
              "\n",
              "  .colab-df-spinner {\n",
              "    border: 2px solid var(--fill-color);\n",
              "    border-color: transparent;\n",
              "    border-bottom-color: var(--fill-color);\n",
              "    animation:\n",
              "      spin 1s steps(1) infinite;\n",
              "  }\n",
              "\n",
              "  @keyframes spin {\n",
              "    0% {\n",
              "      border-color: transparent;\n",
              "      border-bottom-color: var(--fill-color);\n",
              "      border-left-color: var(--fill-color);\n",
              "    }\n",
              "    20% {\n",
              "      border-color: transparent;\n",
              "      border-left-color: var(--fill-color);\n",
              "      border-top-color: var(--fill-color);\n",
              "    }\n",
              "    30% {\n",
              "      border-color: transparent;\n",
              "      border-left-color: var(--fill-color);\n",
              "      border-top-color: var(--fill-color);\n",
              "      border-right-color: var(--fill-color);\n",
              "    }\n",
              "    40% {\n",
              "      border-color: transparent;\n",
              "      border-right-color: var(--fill-color);\n",
              "      border-top-color: var(--fill-color);\n",
              "    }\n",
              "    60% {\n",
              "      border-color: transparent;\n",
              "      border-right-color: var(--fill-color);\n",
              "    }\n",
              "    80% {\n",
              "      border-color: transparent;\n",
              "      border-right-color: var(--fill-color);\n",
              "      border-bottom-color: var(--fill-color);\n",
              "    }\n",
              "    90% {\n",
              "      border-color: transparent;\n",
              "      border-bottom-color: var(--fill-color);\n",
              "    }\n",
              "  }\n",
              "</style>\n",
              "\n",
              "      <script>\n",
              "        async function quickchart(key) {\n",
              "          const quickchartButtonEl =\n",
              "            document.querySelector('#' + key + ' button');\n",
              "          quickchartButtonEl.disabled = true;  // To prevent multiple clicks.\n",
              "          quickchartButtonEl.classList.add('colab-df-spinner');\n",
              "          try {\n",
              "            const charts = await google.colab.kernel.invokeFunction(\n",
              "                'suggestCharts', [key], {});\n",
              "          } catch (error) {\n",
              "            console.error('Error during call to suggestCharts:', error);\n",
              "          }\n",
              "          quickchartButtonEl.classList.remove('colab-df-spinner');\n",
              "          quickchartButtonEl.classList.add('colab-df-quickchart-complete');\n",
              "        }\n",
              "        (() => {\n",
              "          let quickchartButtonEl =\n",
              "            document.querySelector('#df-f8133940-98e1-40b3-b86c-8e066897a545 button');\n",
              "          quickchartButtonEl.style.display =\n",
              "            google.colab.kernel.accessAllowed ? 'block' : 'none';\n",
              "        })();\n",
              "      </script>\n",
              "    </div>\n",
              "\n",
              "    </div>\n",
              "  </div>\n"
            ],
            "application/vnd.google.colaboratory.intrinsic+json": {
              "type": "dataframe",
              "summary": "{\n  \"name\": \"df\",\n  \"rows\": 8,\n  \"fields\": [\n    {\n      \"column\": \"trips_in_first_30_days\",\n      \"properties\": {\n        \"dtype\": \"number\",\n        \"std\": 17670.900163043745,\n        \"min\": 0.0,\n        \"max\": 50000.0,\n        \"num_unique_values\": 7,\n        \"samples\": [\n          50000.0,\n          2.2782,\n          3.0\n        ],\n        \"semantic_type\": \"\",\n        \"description\": \"\"\n      }\n    },\n    {\n      \"column\": \"avg_rating_of_driver\",\n      \"properties\": {\n        \"dtype\": \"number\",\n        \"std\": 14804.825152826957,\n        \"min\": 0.6173384560412452,\n        \"max\": 41878.0,\n        \"num_unique_values\": 7,\n        \"samples\": [\n          41878.0,\n          4.601559291274655,\n          4.9\n        ],\n        \"semantic_type\": \"\",\n        \"description\": \"\"\n      }\n    },\n    {\n      \"column\": \"avg_surge\",\n      \"properties\": {\n        \"dtype\": \"number\",\n        \"std\": 17676.995576540812,\n        \"min\": 0.22233600894947136,\n        \"max\": 50000.0,\n        \"num_unique_values\": 6,\n        \"samples\": [\n          50000.0,\n          1.0747638,\n          8.0\n        ],\n        \"semantic_type\": \"\",\n        \"description\": \"\"\n      }\n    },\n    {\n      \"column\": \"surge_pct\",\n      \"properties\": {\n        \"dtype\": \"number\",\n        \"std\": 17670.761104800324,\n        \"min\": 0.0,\n        \"max\": 50000.0,\n        \"num_unique_values\": 6,\n        \"samples\": [\n          50000.0,\n          8.849535999999999,\n          100.0\n        ],\n        \"semantic_type\": \"\",\n        \"description\": \"\"\n      }\n    },\n    {\n      \"column\": \"weekday_pct\",\n      \"properties\": {\n        \"dtype\": \"number\",\n        \"std\": 17657.599532326378,\n        \"min\": 0.0,\n        \"max\": 50000.0,\n        \"num_unique_values\": 7,\n        \"samples\": [\n          50000.0,\n          60.926083999999996,\n          66.7\n        ],\n        \"semantic_type\": \"\",\n        \"description\": \"\"\n      }\n    },\n    {\n      \"column\": \"avg_dist\",\n      \"properties\": {\n        \"dtype\": \"number\",\n        \"std\": 17668.375421827095,\n        \"min\": 0.0,\n        \"max\": 50000.0,\n        \"num_unique_values\": 8,\n        \"samples\": [\n          5.7968266,\n          3.88,\n          50000.0\n        ],\n        \"semantic_type\": \"\",\n        \"description\": \"\"\n      }\n    },\n    {\n      \"column\": \"avg_rating_by_driver\",\n      \"properties\": {\n        \"dtype\": \"number\",\n        \"std\": 17605.295999378613,\n        \"min\": 0.4466517934657271,\n        \"max\": 49799.0,\n        \"num_unique_values\": 6,\n        \"samples\": [\n          49799.0,\n          4.77815819594771,\n          5.0\n        ],\n        \"semantic_type\": \"\",\n        \"description\": \"\"\n      }\n    }\n  ]\n}"
            }
          },
          "metadata": {},
          "execution_count": 5
        }
      ]
    },
    {
      "cell_type": "markdown",
      "source": [
        "Ratings are around 4.6-4.7 out of 5 for drivers and drivers. We can use the mean for this to impute the data."
      ],
      "metadata": {
        "id": "BCpLym1hzpBD"
      }
    },
    {
      "cell_type": "code",
      "source": [
        "df.dtypes"
      ],
      "metadata": {
        "colab": {
          "base_uri": "https://localhost:8080/",
          "height": 460
        },
        "id": "8kPNNy-K44Jm",
        "outputId": "f4b1619e-2d5c-4611-ff82-9ca7dc099848"
      },
      "execution_count": 6,
      "outputs": [
        {
          "output_type": "execute_result",
          "data": {
            "text/plain": [
              "city                       object\n",
              "trips_in_first_30_days      int64\n",
              "signup_date                object\n",
              "avg_rating_of_driver      float64\n",
              "avg_surge                 float64\n",
              "last_trip_date             object\n",
              "phone                      object\n",
              "surge_pct                 float64\n",
              "ultimate_black_user          bool\n",
              "weekday_pct               float64\n",
              "avg_dist                  float64\n",
              "avg_rating_by_driver      float64\n",
              "dtype: object"
            ],
            "text/html": [
              "<div>\n",
              "<style scoped>\n",
              "    .dataframe tbody tr th:only-of-type {\n",
              "        vertical-align: middle;\n",
              "    }\n",
              "\n",
              "    .dataframe tbody tr th {\n",
              "        vertical-align: top;\n",
              "    }\n",
              "\n",
              "    .dataframe thead th {\n",
              "        text-align: right;\n",
              "    }\n",
              "</style>\n",
              "<table border=\"1\" class=\"dataframe\">\n",
              "  <thead>\n",
              "    <tr style=\"text-align: right;\">\n",
              "      <th></th>\n",
              "      <th>0</th>\n",
              "    </tr>\n",
              "  </thead>\n",
              "  <tbody>\n",
              "    <tr>\n",
              "      <th>city</th>\n",
              "      <td>object</td>\n",
              "    </tr>\n",
              "    <tr>\n",
              "      <th>trips_in_first_30_days</th>\n",
              "      <td>int64</td>\n",
              "    </tr>\n",
              "    <tr>\n",
              "      <th>signup_date</th>\n",
              "      <td>object</td>\n",
              "    </tr>\n",
              "    <tr>\n",
              "      <th>avg_rating_of_driver</th>\n",
              "      <td>float64</td>\n",
              "    </tr>\n",
              "    <tr>\n",
              "      <th>avg_surge</th>\n",
              "      <td>float64</td>\n",
              "    </tr>\n",
              "    <tr>\n",
              "      <th>last_trip_date</th>\n",
              "      <td>object</td>\n",
              "    </tr>\n",
              "    <tr>\n",
              "      <th>phone</th>\n",
              "      <td>object</td>\n",
              "    </tr>\n",
              "    <tr>\n",
              "      <th>surge_pct</th>\n",
              "      <td>float64</td>\n",
              "    </tr>\n",
              "    <tr>\n",
              "      <th>ultimate_black_user</th>\n",
              "      <td>bool</td>\n",
              "    </tr>\n",
              "    <tr>\n",
              "      <th>weekday_pct</th>\n",
              "      <td>float64</td>\n",
              "    </tr>\n",
              "    <tr>\n",
              "      <th>avg_dist</th>\n",
              "      <td>float64</td>\n",
              "    </tr>\n",
              "    <tr>\n",
              "      <th>avg_rating_by_driver</th>\n",
              "      <td>float64</td>\n",
              "    </tr>\n",
              "  </tbody>\n",
              "</table>\n",
              "</div><br><label><b>dtype:</b> object</label>"
            ]
          },
          "metadata": {},
          "execution_count": 6
        }
      ]
    },
    {
      "cell_type": "markdown",
      "source": [
        "## Data Cleaning"
      ],
      "metadata": {
        "id": "Ss1fgfklyhX-"
      }
    },
    {
      "cell_type": "markdown",
      "source": [
        "As noted, we do have missing values in the ratings columns and the phone column. We can start by imputing the ratings values with the mean"
      ],
      "metadata": {
        "id": "MsqnKR4G0Lvz"
      }
    },
    {
      "cell_type": "code",
      "source": [
        "# Impute missing avg rating by driver with mean\n",
        "df['avg_rating_by_driver'] = df['avg_rating_by_driver'].fillna(df['avg_rating_by_driver'].mean())\n",
        "\n",
        "# Impute Missing avg rating of driver with mean\n",
        "df['avg_rating_of_driver'] = df['avg_rating_of_driver'].fillna(df['avg_rating_of_driver'].mean())"
      ],
      "metadata": {
        "id": "uVY2Rt_Fyj4a"
      },
      "execution_count": 7,
      "outputs": []
    },
    {
      "cell_type": "markdown",
      "source": [
        "Now we will impute the missing phone values. First we'll look at what the most common option is and impute based on that"
      ],
      "metadata": {
        "id": "j7gOB9HQ0nO6"
      }
    },
    {
      "cell_type": "code",
      "source": [
        "# Counts of each result in phone column\n",
        "df['phone'].value_counts()"
      ],
      "metadata": {
        "colab": {
          "base_uri": "https://localhost:8080/",
          "height": 178
        },
        "id": "9p8q95Ya0zMF",
        "outputId": "6dd90d06-3763-46b8-b92f-cbccd94ab0fb"
      },
      "execution_count": 8,
      "outputs": [
        {
          "output_type": "execute_result",
          "data": {
            "text/plain": [
              "phone\n",
              "iPhone     34582\n",
              "Android    15022\n",
              "Name: count, dtype: int64"
            ],
            "text/html": [
              "<div>\n",
              "<style scoped>\n",
              "    .dataframe tbody tr th:only-of-type {\n",
              "        vertical-align: middle;\n",
              "    }\n",
              "\n",
              "    .dataframe tbody tr th {\n",
              "        vertical-align: top;\n",
              "    }\n",
              "\n",
              "    .dataframe thead th {\n",
              "        text-align: right;\n",
              "    }\n",
              "</style>\n",
              "<table border=\"1\" class=\"dataframe\">\n",
              "  <thead>\n",
              "    <tr style=\"text-align: right;\">\n",
              "      <th></th>\n",
              "      <th>count</th>\n",
              "    </tr>\n",
              "    <tr>\n",
              "      <th>phone</th>\n",
              "      <th></th>\n",
              "    </tr>\n",
              "  </thead>\n",
              "  <tbody>\n",
              "    <tr>\n",
              "      <th>iPhone</th>\n",
              "      <td>34582</td>\n",
              "    </tr>\n",
              "    <tr>\n",
              "      <th>Android</th>\n",
              "      <td>15022</td>\n",
              "    </tr>\n",
              "  </tbody>\n",
              "</table>\n",
              "</div><br><label><b>dtype:</b> int64</label>"
            ]
          },
          "metadata": {},
          "execution_count": 8
        }
      ]
    },
    {
      "cell_type": "markdown",
      "source": [
        "Looks like a heavy share of iPhone users. We'll assume the missing values are iPhone users"
      ],
      "metadata": {
        "id": "zDGSHEYx04iL"
      }
    },
    {
      "cell_type": "code",
      "source": [
        "# Impute missing phone results\n",
        "df['phone'] = df['phone'].fillna('iPhone')"
      ],
      "metadata": {
        "id": "IA-p26Pn0_JD"
      },
      "execution_count": 9,
      "outputs": []
    },
    {
      "cell_type": "code",
      "source": [
        "# Confirm no missing values now\n",
        "df.info()"
      ],
      "metadata": {
        "colab": {
          "base_uri": "https://localhost:8080/"
        },
        "id": "K5c1Ddwo1FRT",
        "outputId": "64c0e535-c82d-49d6-ec9f-a0c7b3ba5724"
      },
      "execution_count": 10,
      "outputs": [
        {
          "output_type": "stream",
          "name": "stdout",
          "text": [
            "<class 'pandas.core.frame.DataFrame'>\n",
            "RangeIndex: 50000 entries, 0 to 49999\n",
            "Data columns (total 12 columns):\n",
            " #   Column                  Non-Null Count  Dtype  \n",
            "---  ------                  --------------  -----  \n",
            " 0   city                    50000 non-null  object \n",
            " 1   trips_in_first_30_days  50000 non-null  int64  \n",
            " 2   signup_date             50000 non-null  object \n",
            " 3   avg_rating_of_driver    50000 non-null  float64\n",
            " 4   avg_surge               50000 non-null  float64\n",
            " 5   last_trip_date          50000 non-null  object \n",
            " 6   phone                   50000 non-null  object \n",
            " 7   surge_pct               50000 non-null  float64\n",
            " 8   ultimate_black_user     50000 non-null  bool   \n",
            " 9   weekday_pct             50000 non-null  float64\n",
            " 10  avg_dist                50000 non-null  float64\n",
            " 11  avg_rating_by_driver    50000 non-null  float64\n",
            "dtypes: bool(1), float64(6), int64(1), object(4)\n",
            "memory usage: 4.2+ MB\n"
          ]
        }
      ]
    },
    {
      "cell_type": "markdown",
      "source": [
        "Now that we handled the misssing values, we'll check for duplicates in the data"
      ],
      "metadata": {
        "id": "J2FZMAS11_xy"
      }
    },
    {
      "cell_type": "code",
      "source": [
        "# Pull duplicates\n",
        "dupes = df.duplicated()\n",
        "df[dupes]"
      ],
      "metadata": {
        "colab": {
          "base_uri": "https://localhost:8080/",
          "height": 320
        },
        "id": "7cKpObc32SJl",
        "outputId": "320ee7eb-cbf4-4b7a-c1c9-a7ebe6b0e41d"
      },
      "execution_count": 11,
      "outputs": [
        {
          "output_type": "execute_result",
          "data": {
            "text/plain": [
              "             city  trips_in_first_30_days signup_date  avg_rating_of_driver  \\\n",
              "2608      Astapor                       1  2014-01-18              5.000000   \n",
              "18057     Astapor                       1  2014-01-11              5.000000   \n",
              "29601  Winterfell                       1  2014-01-01              4.601559   \n",
              "34641  Winterfell                       1  2014-01-18              4.601559   \n",
              "36627  Winterfell                       1  2014-01-18              5.000000   \n",
              "39601  Winterfell                       1  2014-01-10              5.000000   \n",
              "42025  Winterfell                       1  2014-01-18              4.601559   \n",
              "45416     Astapor                       1  2014-01-20              5.000000   \n",
              "\n",
              "       avg_surge last_trip_date    phone  surge_pct  ultimate_black_user  \\\n",
              "2608         1.0     2014-01-19   iPhone        0.0                 True   \n",
              "18057        1.0     2014-01-11   iPhone        0.0                 True   \n",
              "29601        1.0     2014-01-02  Android        0.0                False   \n",
              "34641        1.0     2014-01-19   iPhone        0.0                 True   \n",
              "36627        1.0     2014-01-19  Android        0.0                False   \n",
              "39601        1.0     2014-01-11  Android        0.0                False   \n",
              "42025        1.0     2014-01-19  Android        0.0                False   \n",
              "45416        1.0     2014-01-20   iPhone        0.0                False   \n",
              "\n",
              "       weekday_pct  avg_dist  avg_rating_by_driver  \n",
              "2608           0.0      6.25                   5.0  \n",
              "18057          0.0      2.33                   5.0  \n",
              "29601        100.0      8.08                   5.0  \n",
              "34641          0.0      1.44                   5.0  \n",
              "36627          0.0      3.54                   5.0  \n",
              "39601        100.0      0.00                   5.0  \n",
              "42025          0.0      0.01                   5.0  \n",
              "45416        100.0      3.06                   5.0  "
            ],
            "text/html": [
              "\n",
              "  <div id=\"df-2ecc9579-1dc5-4046-8081-cd7b4c68c387\" class=\"colab-df-container\">\n",
              "    <div>\n",
              "<style scoped>\n",
              "    .dataframe tbody tr th:only-of-type {\n",
              "        vertical-align: middle;\n",
              "    }\n",
              "\n",
              "    .dataframe tbody tr th {\n",
              "        vertical-align: top;\n",
              "    }\n",
              "\n",
              "    .dataframe thead th {\n",
              "        text-align: right;\n",
              "    }\n",
              "</style>\n",
              "<table border=\"1\" class=\"dataframe\">\n",
              "  <thead>\n",
              "    <tr style=\"text-align: right;\">\n",
              "      <th></th>\n",
              "      <th>city</th>\n",
              "      <th>trips_in_first_30_days</th>\n",
              "      <th>signup_date</th>\n",
              "      <th>avg_rating_of_driver</th>\n",
              "      <th>avg_surge</th>\n",
              "      <th>last_trip_date</th>\n",
              "      <th>phone</th>\n",
              "      <th>surge_pct</th>\n",
              "      <th>ultimate_black_user</th>\n",
              "      <th>weekday_pct</th>\n",
              "      <th>avg_dist</th>\n",
              "      <th>avg_rating_by_driver</th>\n",
              "    </tr>\n",
              "  </thead>\n",
              "  <tbody>\n",
              "    <tr>\n",
              "      <th>2608</th>\n",
              "      <td>Astapor</td>\n",
              "      <td>1</td>\n",
              "      <td>2014-01-18</td>\n",
              "      <td>5.000000</td>\n",
              "      <td>1.0</td>\n",
              "      <td>2014-01-19</td>\n",
              "      <td>iPhone</td>\n",
              "      <td>0.0</td>\n",
              "      <td>True</td>\n",
              "      <td>0.0</td>\n",
              "      <td>6.25</td>\n",
              "      <td>5.0</td>\n",
              "    </tr>\n",
              "    <tr>\n",
              "      <th>18057</th>\n",
              "      <td>Astapor</td>\n",
              "      <td>1</td>\n",
              "      <td>2014-01-11</td>\n",
              "      <td>5.000000</td>\n",
              "      <td>1.0</td>\n",
              "      <td>2014-01-11</td>\n",
              "      <td>iPhone</td>\n",
              "      <td>0.0</td>\n",
              "      <td>True</td>\n",
              "      <td>0.0</td>\n",
              "      <td>2.33</td>\n",
              "      <td>5.0</td>\n",
              "    </tr>\n",
              "    <tr>\n",
              "      <th>29601</th>\n",
              "      <td>Winterfell</td>\n",
              "      <td>1</td>\n",
              "      <td>2014-01-01</td>\n",
              "      <td>4.601559</td>\n",
              "      <td>1.0</td>\n",
              "      <td>2014-01-02</td>\n",
              "      <td>Android</td>\n",
              "      <td>0.0</td>\n",
              "      <td>False</td>\n",
              "      <td>100.0</td>\n",
              "      <td>8.08</td>\n",
              "      <td>5.0</td>\n",
              "    </tr>\n",
              "    <tr>\n",
              "      <th>34641</th>\n",
              "      <td>Winterfell</td>\n",
              "      <td>1</td>\n",
              "      <td>2014-01-18</td>\n",
              "      <td>4.601559</td>\n",
              "      <td>1.0</td>\n",
              "      <td>2014-01-19</td>\n",
              "      <td>iPhone</td>\n",
              "      <td>0.0</td>\n",
              "      <td>True</td>\n",
              "      <td>0.0</td>\n",
              "      <td>1.44</td>\n",
              "      <td>5.0</td>\n",
              "    </tr>\n",
              "    <tr>\n",
              "      <th>36627</th>\n",
              "      <td>Winterfell</td>\n",
              "      <td>1</td>\n",
              "      <td>2014-01-18</td>\n",
              "      <td>5.000000</td>\n",
              "      <td>1.0</td>\n",
              "      <td>2014-01-19</td>\n",
              "      <td>Android</td>\n",
              "      <td>0.0</td>\n",
              "      <td>False</td>\n",
              "      <td>0.0</td>\n",
              "      <td>3.54</td>\n",
              "      <td>5.0</td>\n",
              "    </tr>\n",
              "    <tr>\n",
              "      <th>39601</th>\n",
              "      <td>Winterfell</td>\n",
              "      <td>1</td>\n",
              "      <td>2014-01-10</td>\n",
              "      <td>5.000000</td>\n",
              "      <td>1.0</td>\n",
              "      <td>2014-01-11</td>\n",
              "      <td>Android</td>\n",
              "      <td>0.0</td>\n",
              "      <td>False</td>\n",
              "      <td>100.0</td>\n",
              "      <td>0.00</td>\n",
              "      <td>5.0</td>\n",
              "    </tr>\n",
              "    <tr>\n",
              "      <th>42025</th>\n",
              "      <td>Winterfell</td>\n",
              "      <td>1</td>\n",
              "      <td>2014-01-18</td>\n",
              "      <td>4.601559</td>\n",
              "      <td>1.0</td>\n",
              "      <td>2014-01-19</td>\n",
              "      <td>Android</td>\n",
              "      <td>0.0</td>\n",
              "      <td>False</td>\n",
              "      <td>0.0</td>\n",
              "      <td>0.01</td>\n",
              "      <td>5.0</td>\n",
              "    </tr>\n",
              "    <tr>\n",
              "      <th>45416</th>\n",
              "      <td>Astapor</td>\n",
              "      <td>1</td>\n",
              "      <td>2014-01-20</td>\n",
              "      <td>5.000000</td>\n",
              "      <td>1.0</td>\n",
              "      <td>2014-01-20</td>\n",
              "      <td>iPhone</td>\n",
              "      <td>0.0</td>\n",
              "      <td>False</td>\n",
              "      <td>100.0</td>\n",
              "      <td>3.06</td>\n",
              "      <td>5.0</td>\n",
              "    </tr>\n",
              "  </tbody>\n",
              "</table>\n",
              "</div>\n",
              "    <div class=\"colab-df-buttons\">\n",
              "\n",
              "  <div class=\"colab-df-container\">\n",
              "    <button class=\"colab-df-convert\" onclick=\"convertToInteractive('df-2ecc9579-1dc5-4046-8081-cd7b4c68c387')\"\n",
              "            title=\"Convert this dataframe to an interactive table.\"\n",
              "            style=\"display:none;\">\n",
              "\n",
              "  <svg xmlns=\"http://www.w3.org/2000/svg\" height=\"24px\" viewBox=\"0 -960 960 960\">\n",
              "    <path d=\"M120-120v-720h720v720H120Zm60-500h600v-160H180v160Zm220 220h160v-160H400v160Zm0 220h160v-160H400v160ZM180-400h160v-160H180v160Zm440 0h160v-160H620v160ZM180-180h160v-160H180v160Zm440 0h160v-160H620v160Z\"/>\n",
              "  </svg>\n",
              "    </button>\n",
              "\n",
              "  <style>\n",
              "    .colab-df-container {\n",
              "      display:flex;\n",
              "      gap: 12px;\n",
              "    }\n",
              "\n",
              "    .colab-df-convert {\n",
              "      background-color: #E8F0FE;\n",
              "      border: none;\n",
              "      border-radius: 50%;\n",
              "      cursor: pointer;\n",
              "      display: none;\n",
              "      fill: #1967D2;\n",
              "      height: 32px;\n",
              "      padding: 0 0 0 0;\n",
              "      width: 32px;\n",
              "    }\n",
              "\n",
              "    .colab-df-convert:hover {\n",
              "      background-color: #E2EBFA;\n",
              "      box-shadow: 0px 1px 2px rgba(60, 64, 67, 0.3), 0px 1px 3px 1px rgba(60, 64, 67, 0.15);\n",
              "      fill: #174EA6;\n",
              "    }\n",
              "\n",
              "    .colab-df-buttons div {\n",
              "      margin-bottom: 4px;\n",
              "    }\n",
              "\n",
              "    [theme=dark] .colab-df-convert {\n",
              "      background-color: #3B4455;\n",
              "      fill: #D2E3FC;\n",
              "    }\n",
              "\n",
              "    [theme=dark] .colab-df-convert:hover {\n",
              "      background-color: #434B5C;\n",
              "      box-shadow: 0px 1px 3px 1px rgba(0, 0, 0, 0.15);\n",
              "      filter: drop-shadow(0px 1px 2px rgba(0, 0, 0, 0.3));\n",
              "      fill: #FFFFFF;\n",
              "    }\n",
              "  </style>\n",
              "\n",
              "    <script>\n",
              "      const buttonEl =\n",
              "        document.querySelector('#df-2ecc9579-1dc5-4046-8081-cd7b4c68c387 button.colab-df-convert');\n",
              "      buttonEl.style.display =\n",
              "        google.colab.kernel.accessAllowed ? 'block' : 'none';\n",
              "\n",
              "      async function convertToInteractive(key) {\n",
              "        const element = document.querySelector('#df-2ecc9579-1dc5-4046-8081-cd7b4c68c387');\n",
              "        const dataTable =\n",
              "          await google.colab.kernel.invokeFunction('convertToInteractive',\n",
              "                                                    [key], {});\n",
              "        if (!dataTable) return;\n",
              "\n",
              "        const docLinkHtml = 'Like what you see? Visit the ' +\n",
              "          '<a target=\"_blank\" href=https://colab.research.google.com/notebooks/data_table.ipynb>data table notebook</a>'\n",
              "          + ' to learn more about interactive tables.';\n",
              "        element.innerHTML = '';\n",
              "        dataTable['output_type'] = 'display_data';\n",
              "        await google.colab.output.renderOutput(dataTable, element);\n",
              "        const docLink = document.createElement('div');\n",
              "        docLink.innerHTML = docLinkHtml;\n",
              "        element.appendChild(docLink);\n",
              "      }\n",
              "    </script>\n",
              "  </div>\n",
              "\n",
              "\n",
              "    <div id=\"df-b095cb82-3619-40c6-b1e3-260f39f43442\">\n",
              "      <button class=\"colab-df-quickchart\" onclick=\"quickchart('df-b095cb82-3619-40c6-b1e3-260f39f43442')\"\n",
              "                title=\"Suggest charts\"\n",
              "                style=\"display:none;\">\n",
              "\n",
              "<svg xmlns=\"http://www.w3.org/2000/svg\" height=\"24px\"viewBox=\"0 0 24 24\"\n",
              "     width=\"24px\">\n",
              "    <g>\n",
              "        <path d=\"M19 3H5c-1.1 0-2 .9-2 2v14c0 1.1.9 2 2 2h14c1.1 0 2-.9 2-2V5c0-1.1-.9-2-2-2zM9 17H7v-7h2v7zm4 0h-2V7h2v10zm4 0h-2v-4h2v4z\"/>\n",
              "    </g>\n",
              "</svg>\n",
              "      </button>\n",
              "\n",
              "<style>\n",
              "  .colab-df-quickchart {\n",
              "      --bg-color: #E8F0FE;\n",
              "      --fill-color: #1967D2;\n",
              "      --hover-bg-color: #E2EBFA;\n",
              "      --hover-fill-color: #174EA6;\n",
              "      --disabled-fill-color: #AAA;\n",
              "      --disabled-bg-color: #DDD;\n",
              "  }\n",
              "\n",
              "  [theme=dark] .colab-df-quickchart {\n",
              "      --bg-color: #3B4455;\n",
              "      --fill-color: #D2E3FC;\n",
              "      --hover-bg-color: #434B5C;\n",
              "      --hover-fill-color: #FFFFFF;\n",
              "      --disabled-bg-color: #3B4455;\n",
              "      --disabled-fill-color: #666;\n",
              "  }\n",
              "\n",
              "  .colab-df-quickchart {\n",
              "    background-color: var(--bg-color);\n",
              "    border: none;\n",
              "    border-radius: 50%;\n",
              "    cursor: pointer;\n",
              "    display: none;\n",
              "    fill: var(--fill-color);\n",
              "    height: 32px;\n",
              "    padding: 0;\n",
              "    width: 32px;\n",
              "  }\n",
              "\n",
              "  .colab-df-quickchart:hover {\n",
              "    background-color: var(--hover-bg-color);\n",
              "    box-shadow: 0 1px 2px rgba(60, 64, 67, 0.3), 0 1px 3px 1px rgba(60, 64, 67, 0.15);\n",
              "    fill: var(--button-hover-fill-color);\n",
              "  }\n",
              "\n",
              "  .colab-df-quickchart-complete:disabled,\n",
              "  .colab-df-quickchart-complete:disabled:hover {\n",
              "    background-color: var(--disabled-bg-color);\n",
              "    fill: var(--disabled-fill-color);\n",
              "    box-shadow: none;\n",
              "  }\n",
              "\n",
              "  .colab-df-spinner {\n",
              "    border: 2px solid var(--fill-color);\n",
              "    border-color: transparent;\n",
              "    border-bottom-color: var(--fill-color);\n",
              "    animation:\n",
              "      spin 1s steps(1) infinite;\n",
              "  }\n",
              "\n",
              "  @keyframes spin {\n",
              "    0% {\n",
              "      border-color: transparent;\n",
              "      border-bottom-color: var(--fill-color);\n",
              "      border-left-color: var(--fill-color);\n",
              "    }\n",
              "    20% {\n",
              "      border-color: transparent;\n",
              "      border-left-color: var(--fill-color);\n",
              "      border-top-color: var(--fill-color);\n",
              "    }\n",
              "    30% {\n",
              "      border-color: transparent;\n",
              "      border-left-color: var(--fill-color);\n",
              "      border-top-color: var(--fill-color);\n",
              "      border-right-color: var(--fill-color);\n",
              "    }\n",
              "    40% {\n",
              "      border-color: transparent;\n",
              "      border-right-color: var(--fill-color);\n",
              "      border-top-color: var(--fill-color);\n",
              "    }\n",
              "    60% {\n",
              "      border-color: transparent;\n",
              "      border-right-color: var(--fill-color);\n",
              "    }\n",
              "    80% {\n",
              "      border-color: transparent;\n",
              "      border-right-color: var(--fill-color);\n",
              "      border-bottom-color: var(--fill-color);\n",
              "    }\n",
              "    90% {\n",
              "      border-color: transparent;\n",
              "      border-bottom-color: var(--fill-color);\n",
              "    }\n",
              "  }\n",
              "</style>\n",
              "\n",
              "      <script>\n",
              "        async function quickchart(key) {\n",
              "          const quickchartButtonEl =\n",
              "            document.querySelector('#' + key + ' button');\n",
              "          quickchartButtonEl.disabled = true;  // To prevent multiple clicks.\n",
              "          quickchartButtonEl.classList.add('colab-df-spinner');\n",
              "          try {\n",
              "            const charts = await google.colab.kernel.invokeFunction(\n",
              "                'suggestCharts', [key], {});\n",
              "          } catch (error) {\n",
              "            console.error('Error during call to suggestCharts:', error);\n",
              "          }\n",
              "          quickchartButtonEl.classList.remove('colab-df-spinner');\n",
              "          quickchartButtonEl.classList.add('colab-df-quickchart-complete');\n",
              "        }\n",
              "        (() => {\n",
              "          let quickchartButtonEl =\n",
              "            document.querySelector('#df-b095cb82-3619-40c6-b1e3-260f39f43442 button');\n",
              "          quickchartButtonEl.style.display =\n",
              "            google.colab.kernel.accessAllowed ? 'block' : 'none';\n",
              "        })();\n",
              "      </script>\n",
              "    </div>\n",
              "\n",
              "    </div>\n",
              "  </div>\n"
            ],
            "application/vnd.google.colaboratory.intrinsic+json": {
              "type": "dataframe",
              "repr_error": "0"
            }
          },
          "metadata": {},
          "execution_count": 11
        }
      ]
    },
    {
      "cell_type": "markdown",
      "source": [
        "Since these duplicates all have 1 trip in the first 30 days, it shows that they are true duplicates. We will drop the duplicated values"
      ],
      "metadata": {
        "id": "BGLD54fW4WVb"
      }
    },
    {
      "cell_type": "code",
      "source": [
        "# Drop duplicates\n",
        "df = df.drop_duplicates()"
      ],
      "metadata": {
        "id": "GOlayVzb5_9V"
      },
      "execution_count": 12,
      "outputs": []
    },
    {
      "cell_type": "code",
      "source": [
        "# Check for duplicates\n",
        "df.duplicated().sum()"
      ],
      "metadata": {
        "colab": {
          "base_uri": "https://localhost:8080/"
        },
        "id": "TPw8-wUJ5_0s",
        "outputId": "79b36f78-6c63-4d84-eed9-3f4969648665"
      },
      "execution_count": 13,
      "outputs": [
        {
          "output_type": "execute_result",
          "data": {
            "text/plain": [
              "np.int64(0)"
            ]
          },
          "metadata": {},
          "execution_count": 13
        }
      ]
    },
    {
      "cell_type": "markdown",
      "source": [
        "Now we will handle data types as a signup date and late trip date are object types. We'll convert these to datetime."
      ],
      "metadata": {
        "id": "p35nVS9R6H8J"
      }
    },
    {
      "cell_type": "code",
      "source": [
        "# Convert signup and last trip dates to datetime\n",
        "df['signup_date'] = pd.to_datetime(df['signup_date'])\n",
        "df['last_trip_date'] = pd.to_datetime(df['last_trip_date'])"
      ],
      "metadata": {
        "id": "MjQrDldd6Ta6"
      },
      "execution_count": 14,
      "outputs": []
    },
    {
      "cell_type": "code",
      "source": [
        "df.dtypes"
      ],
      "metadata": {
        "id": "1R-Iea6Z6ajX",
        "outputId": "b6da2152-074c-4b35-f3de-c4fcf6d06f6c",
        "colab": {
          "base_uri": "https://localhost:8080/",
          "height": 460
        }
      },
      "execution_count": 15,
      "outputs": [
        {
          "output_type": "execute_result",
          "data": {
            "text/plain": [
              "city                              object\n",
              "trips_in_first_30_days             int64\n",
              "signup_date               datetime64[ns]\n",
              "avg_rating_of_driver             float64\n",
              "avg_surge                        float64\n",
              "last_trip_date            datetime64[ns]\n",
              "phone                             object\n",
              "surge_pct                        float64\n",
              "ultimate_black_user                 bool\n",
              "weekday_pct                      float64\n",
              "avg_dist                         float64\n",
              "avg_rating_by_driver             float64\n",
              "dtype: object"
            ],
            "text/html": [
              "<div>\n",
              "<style scoped>\n",
              "    .dataframe tbody tr th:only-of-type {\n",
              "        vertical-align: middle;\n",
              "    }\n",
              "\n",
              "    .dataframe tbody tr th {\n",
              "        vertical-align: top;\n",
              "    }\n",
              "\n",
              "    .dataframe thead th {\n",
              "        text-align: right;\n",
              "    }\n",
              "</style>\n",
              "<table border=\"1\" class=\"dataframe\">\n",
              "  <thead>\n",
              "    <tr style=\"text-align: right;\">\n",
              "      <th></th>\n",
              "      <th>0</th>\n",
              "    </tr>\n",
              "  </thead>\n",
              "  <tbody>\n",
              "    <tr>\n",
              "      <th>city</th>\n",
              "      <td>object</td>\n",
              "    </tr>\n",
              "    <tr>\n",
              "      <th>trips_in_first_30_days</th>\n",
              "      <td>int64</td>\n",
              "    </tr>\n",
              "    <tr>\n",
              "      <th>signup_date</th>\n",
              "      <td>datetime64[ns]</td>\n",
              "    </tr>\n",
              "    <tr>\n",
              "      <th>avg_rating_of_driver</th>\n",
              "      <td>float64</td>\n",
              "    </tr>\n",
              "    <tr>\n",
              "      <th>avg_surge</th>\n",
              "      <td>float64</td>\n",
              "    </tr>\n",
              "    <tr>\n",
              "      <th>last_trip_date</th>\n",
              "      <td>datetime64[ns]</td>\n",
              "    </tr>\n",
              "    <tr>\n",
              "      <th>phone</th>\n",
              "      <td>object</td>\n",
              "    </tr>\n",
              "    <tr>\n",
              "      <th>surge_pct</th>\n",
              "      <td>float64</td>\n",
              "    </tr>\n",
              "    <tr>\n",
              "      <th>ultimate_black_user</th>\n",
              "      <td>bool</td>\n",
              "    </tr>\n",
              "    <tr>\n",
              "      <th>weekday_pct</th>\n",
              "      <td>float64</td>\n",
              "    </tr>\n",
              "    <tr>\n",
              "      <th>avg_dist</th>\n",
              "      <td>float64</td>\n",
              "    </tr>\n",
              "    <tr>\n",
              "      <th>avg_rating_by_driver</th>\n",
              "      <td>float64</td>\n",
              "    </tr>\n",
              "  </tbody>\n",
              "</table>\n",
              "</div><br><label><b>dtype:</b> object</label>"
            ]
          },
          "metadata": {},
          "execution_count": 15
        }
      ]
    },
    {
      "cell_type": "markdown",
      "source": [
        "###Outliers\n",
        "Since we saw some extreme values for avg trip distance and trips in the first 30 days, we'll analyze the outliers to see if they seem legitimate or not"
      ],
      "metadata": {
        "id": "d3z2bOO3E1iq"
      }
    },
    {
      "cell_type": "code",
      "source": [
        "# Box plots for trips_first30 & avg_dist\n",
        "fig, ax = plt.subplots(1, 2, figsize=(10, 5))\n",
        "sns.boxplot(df['trips_in_first_30_days'], ax=ax[0])\n",
        "sns.boxplot(df['avg_dist'], ax=ax[1])\n",
        "ax[0].set_title('Trips in First 30 Days')\n",
        "ax[1].set_title('Average Distance')\n",
        "plt.show()"
      ],
      "metadata": {
        "colab": {
          "base_uri": "https://localhost:8080/",
          "height": 449
        },
        "id": "C0XU0H0AFA6M",
        "outputId": "24db8330-c1b2-4d33-b2a7-9d8b0f08b143"
      },
      "execution_count": 16,
      "outputs": [
        {
          "output_type": "display_data",
          "data": {
            "text/plain": [
              "<Figure size 1000x500 with 2 Axes>"
            ],
            "image/png": "[encoded data removed]"
          },
          "metadata": {}
        }
      ]
    },
    {
      "cell_type": "markdown",
      "source": [
        "It seems these outliers significantly exceed any other value and are probably the result of data error. We'll drop these"
      ],
      "metadata": {
        "id": "8lFbmAwxFTva"
      }
    },
    {
      "cell_type": "code",
      "source": [
        "# Remove outliers\n",
        "df = df[(df['trips_in_first_30_days'] < 80) & (df['avg_dist'] < 80)]"
      ],
      "metadata": {
        "id": "U9XAb97gFkFa"
      },
      "execution_count": 17,
      "outputs": []
    },
    {
      "cell_type": "markdown",
      "source": [
        "Now we'll check the box plot again"
      ],
      "metadata": {
        "id": "C2lZMTxfFuQl"
      }
    },
    {
      "cell_type": "code",
      "source": [
        "# Box plot\n",
        "fig, ax = plt.subplots(1, 2, figsize=(10,5))\n",
        "sns.boxplot(df['trips_in_first_30_days'], ax=ax[0])\n",
        "sns.boxplot(df['avg_dist'], ax=ax[1])\n",
        "ax[0].set_title('Trips in First 30 Days')\n",
        "ax[1].set_title('Average Distance')\n",
        "plt.show()"
      ],
      "metadata": {
        "colab": {
          "base_uri": "https://localhost:8080/",
          "height": 449
        },
        "id": "R55gVroEFtKo",
        "outputId": "ab3314b4-9a8c-4220-c723-e7e62d93ca6a"
      },
      "execution_count": 18,
      "outputs": [
        {
          "output_type": "display_data",
          "data": {
            "text/plain": [
              "<Figure size 1000x500 with 2 Axes>"
            ],
            "image/png": "[encoded data removed]"
          },
          "metadata": {}
        }
      ]
    },
    {
      "cell_type": "markdown",
      "source": [
        "While there are still some extreme outliers in this set, it doesn't appear to be error as much. We'll take care of the outliers in preprocessing."
      ],
      "metadata": {
        "id": "zu7hA-_IHQGY"
      }
    },
    {
      "cell_type": "markdown",
      "source": [
        "## EDA\n",
        "What fraction of observed users were retained? Consider a user retained if they were “active” (i.e. took a trip) in the preceding 30 days"
      ],
      "metadata": {
        "id": "a_1IuVUByk-y"
      }
    },
    {
      "cell_type": "markdown",
      "source": [
        "To start, we'll create a column for active users who took a trip in last 30 days"
      ],
      "metadata": {
        "id": "O7KfqOBfdGc1"
      }
    },
    {
      "cell_type": "code",
      "source": [
        "# Get most recent date\n",
        "max_date = df['last_trip_date'].max()\n",
        "\n",
        "# Create active user column\n",
        "df['active_user'] = np.where(df['last_trip_date'] >= (max_date - dt.timedelta(days=30)), 1, 0)"
      ],
      "metadata": {
        "id": "ZEqhXx2qynlN"
      },
      "execution_count": 19,
      "outputs": []
    },
    {
      "cell_type": "code",
      "source": [
        "df.head()"
      ],
      "metadata": {
        "colab": {
          "base_uri": "https://localhost:8080/",
          "height": 261
        },
        "id": "a7brlaItd8s7",
        "outputId": "5a813232-14b3-422d-da2f-a331e446cf9b"
      },
      "execution_count": 20,
      "outputs": [
        {
          "output_type": "execute_result",
          "data": {
            "text/plain": [
              "             city  trips_in_first_30_days signup_date  avg_rating_of_driver  \\\n",
              "0  King's Landing                       4  2014-01-25                   4.7   \n",
              "1         Astapor                       0  2014-01-29                   5.0   \n",
              "2         Astapor                       3  2014-01-06                   4.3   \n",
              "3  King's Landing                       9  2014-01-10                   4.6   \n",
              "4      Winterfell                      14  2014-01-27                   4.4   \n",
              "\n",
              "   avg_surge last_trip_date    phone  surge_pct  ultimate_black_user  \\\n",
              "0       1.10     2014-06-17   iPhone       15.4                 True   \n",
              "1       1.00     2014-05-05  Android        0.0                False   \n",
              "2       1.00     2014-01-07   iPhone        0.0                False   \n",
              "3       1.14     2014-06-29   iPhone       20.0                 True   \n",
              "4       1.19     2014-03-15  Android       11.8                False   \n",
              "\n",
              "   weekday_pct  avg_dist  avg_rating_by_driver  active_user  \n",
              "0         46.2      3.67                   5.0            1  \n",
              "1         50.0      8.26                   5.0            0  \n",
              "2        100.0      0.77                   5.0            0  \n",
              "3         80.0      2.36                   4.9            1  \n",
              "4         82.4      3.13                   4.9            0  "
            ],
            "text/html": [
              "\n",
              "  <div id=\"df-5ce3295c-9713-4d14-b44a-110367f1d452\" class=\"colab-df-container\">\n",
              "    <div>\n",
              "<style scoped>\n",
              "    .dataframe tbody tr th:only-of-type {\n",
              "        vertical-align: middle;\n",
              "    }\n",
              "\n",
              "    .dataframe tbody tr th {\n",
              "        vertical-align: top;\n",
              "    }\n",
              "\n",
              "    .dataframe thead th {\n",
              "        text-align: right;\n",
              "    }\n",
              "</style>\n",
              "<table border=\"1\" class=\"dataframe\">\n",
              "  <thead>\n",
              "    <tr style=\"text-align: right;\">\n",
              "      <th></th>\n",
              "      <th>city</th>\n",
              "      <th>trips_in_first_30_days</th>\n",
              "      <th>signup_date</th>\n",
              "      <th>avg_rating_of_driver</th>\n",
              "      <th>avg_surge</th>\n",
              "      <th>last_trip_date</th>\n",
              "      <th>phone</th>\n",
              "      <th>surge_pct</th>\n",
              "      <th>ultimate_black_user</th>\n",
              "      <th>weekday_pct</th>\n",
              "      <th>avg_dist</th>\n",
              "      <th>avg_rating_by_driver</th>\n",
              "      <th>active_user</th>\n",
              "    </tr>\n",
              "  </thead>\n",
              "  <tbody>\n",
              "    <tr>\n",
              "      <th>0</th>\n",
              "      <td>King's Landing</td>\n",
              "      <td>4</td>\n",
              "      <td>2014-01-25</td>\n",
              "      <td>4.7</td>\n",
              "      <td>1.10</td>\n",
              "      <td>2014-06-17</td>\n",
              "      <td>iPhone</td>\n",
              "      <td>15.4</td>\n",
              "      <td>True</td>\n",
              "      <td>46.2</td>\n",
              "      <td>3.67</td>\n",
              "      <td>5.0</td>\n",
              "      <td>1</td>\n",
              "    </tr>\n",
              "    <tr>\n",
              "      <th>1</th>\n",
              "      <td>Astapor</td>\n",
              "      <td>0</td>\n",
              "      <td>2014-01-29</td>\n",
              "      <td>5.0</td>\n",
              "      <td>1.00</td>\n",
              "      <td>2014-05-05</td>\n",
              "      <td>Android</td>\n",
              "      <td>0.0</td>\n",
              "      <td>False</td>\n",
              "      <td>50.0</td>\n",
              "      <td>8.26</td>\n",
              "      <td>5.0</td>\n",
              "      <td>0</td>\n",
              "    </tr>\n",
              "    <tr>\n",
              "      <th>2</th>\n",
              "      <td>Astapor</td>\n",
              "      <td>3</td>\n",
              "      <td>2014-01-06</td>\n",
              "      <td>4.3</td>\n",
              "      <td>1.00</td>\n",
              "      <td>2014-01-07</td>\n",
              "      <td>iPhone</td>\n",
              "      <td>0.0</td>\n",
              "      <td>False</td>\n",
              "      <td>100.0</td>\n",
              "      <td>0.77</td>\n",
              "      <td>5.0</td>\n",
              "      <td>0</td>\n",
              "    </tr>\n",
              "    <tr>\n",
              "      <th>3</th>\n",
              "      <td>King's Landing</td>\n",
              "      <td>9</td>\n",
              "      <td>2014-01-10</td>\n",
              "      <td>4.6</td>\n",
              "      <td>1.14</td>\n",
              "      <td>2014-06-29</td>\n",
              "      <td>iPhone</td>\n",
              "      <td>20.0</td>\n",
              "      <td>True</td>\n",
              "      <td>80.0</td>\n",
              "      <td>2.36</td>\n",
              "      <td>4.9</td>\n",
              "      <td>1</td>\n",
              "    </tr>\n",
              "    <tr>\n",
              "      <th>4</th>\n",
              "      <td>Winterfell</td>\n",
              "      <td>14</td>\n",
              "      <td>2014-01-27</td>\n",
              "      <td>4.4</td>\n",
              "      <td>1.19</td>\n",
              "      <td>2014-03-15</td>\n",
              "      <td>Android</td>\n",
              "      <td>11.8</td>\n",
              "      <td>False</td>\n",
              "      <td>82.4</td>\n",
              "      <td>3.13</td>\n",
              "      <td>4.9</td>\n",
              "      <td>0</td>\n",
              "    </tr>\n",
              "  </tbody>\n",
              "</table>\n",
              "</div>\n",
              "    <div class=\"colab-df-buttons\">\n",
              "\n",
              "  <div class=\"colab-df-container\">\n",
              "    <button class=\"colab-df-convert\" onclick=\"convertToInteractive('df-5ce3295c-9713-4d14-b44a-110367f1d452')\"\n",
              "            title=\"Convert this dataframe to an interactive table.\"\n",
              "            style=\"display:none;\">\n",
              "\n",
              "  <svg xmlns=\"http://www.w3.org/2000/svg\" height=\"24px\" viewBox=\"0 -960 960 960\">\n",
              "    <path d=\"M120-120v-720h720v720H120Zm60-500h600v-160H180v160Zm220 220h160v-160H400v160Zm0 220h160v-160H400v160ZM180-400h160v-160H180v160Zm440 0h160v-160H620v160ZM180-180h160v-160H180v160Zm440 0h160v-160H620v160Z\"/>\n",
              "  </svg>\n",
              "    </button>\n",
              "\n",
              "  <style>\n",
              "    .colab-df-container {\n",
              "      display:flex;\n",
              "      gap: 12px;\n",
              "    }\n",
              "\n",
              "    .colab-df-convert {\n",
              "      background-color: #E8F0FE;\n",
              "      border: none;\n",
              "      border-radius: 50%;\n",
              "      cursor: pointer;\n",
              "      display: none;\n",
              "      fill: #1967D2;\n",
              "      height: 32px;\n",
              "      padding: 0 0 0 0;\n",
              "      width: 32px;\n",
              "    }\n",
              "\n",
              "    .colab-df-convert:hover {\n",
              "      background-color: #E2EBFA;\n",
              "      box-shadow: 0px 1px 2px rgba(60, 64, 67, 0.3), 0px 1px 3px 1px rgba(60, 64, 67, 0.15);\n",
              "      fill: #174EA6;\n",
              "    }\n",
              "\n",
              "    .colab-df-buttons div {\n",
              "      margin-bottom: 4px;\n",
              "    }\n",
              "\n",
              "    [theme=dark] .colab-df-convert {\n",
              "      background-color: #3B4455;\n",
              "      fill: #D2E3FC;\n",
              "    }\n",
              "\n",
              "    [theme=dark] .colab-df-convert:hover {\n",
              "      background-color: #434B5C;\n",
              "      box-shadow: 0px 1px 3px 1px rgba(0, 0, 0, 0.15);\n",
              "      filter: drop-shadow(0px 1px 2px rgba(0, 0, 0, 0.3));\n",
              "      fill: #FFFFFF;\n",
              "    }\n",
              "  </style>\n",
              "\n",
              "    <script>\n",
              "      const buttonEl =\n",
              "        document.querySelector('#df-5ce3295c-9713-4d14-b44a-110367f1d452 button.colab-df-convert');\n",
              "      buttonEl.style.display =\n",
              "        google.colab.kernel.accessAllowed ? 'block' : 'none';\n",
              "\n",
              "      async function convertToInteractive(key) {\n",
              "        const element = document.querySelector('#df-5ce3295c-9713-4d14-b44a-110367f1d452');\n",
              "        const dataTable =\n",
              "          await google.colab.kernel.invokeFunction('convertToInteractive',\n",
              "                                                    [key], {});\n",
              "        if (!dataTable) return;\n",
              "\n",
              "        const docLinkHtml = 'Like what you see? Visit the ' +\n",
              "          '<a target=\"_blank\" href=https://colab.research.google.com/notebooks/data_table.ipynb>data table notebook</a>'\n",
              "          + ' to learn more about interactive tables.';\n",
              "        element.innerHTML = '';\n",
              "        dataTable['output_type'] = 'display_data';\n",
              "        await google.colab.output.renderOutput(dataTable, element);\n",
              "        const docLink = document.createElement('div');\n",
              "        docLink.innerHTML = docLinkHtml;\n",
              "        element.appendChild(docLink);\n",
              "      }\n",
              "    </script>\n",
              "  </div>\n",
              "\n",
              "\n",
              "    <div id=\"df-fb4f4672-8f82-4ed1-adbb-acde42a8df19\">\n",
              "      <button class=\"colab-df-quickchart\" onclick=\"quickchart('df-fb4f4672-8f82-4ed1-adbb-acde42a8df19')\"\n",
              "                title=\"Suggest charts\"\n",
              "                style=\"display:none;\">\n",
              "\n",
              "<svg xmlns=\"http://www.w3.org/2000/svg\" height=\"24px\"viewBox=\"0 0 24 24\"\n",
              "     width=\"24px\">\n",
              "    <g>\n",
              "        <path d=\"M19 3H5c-1.1 0-2 .9-2 2v14c0 1.1.9 2 2 2h14c1.1 0 2-.9 2-2V5c0-1.1-.9-2-2-2zM9 17H7v-7h2v7zm4 0h-2V7h2v10zm4 0h-2v-4h2v4z\"/>\n",
              "    </g>\n",
              "</svg>\n",
              "      </button>\n",
              "\n",
              "<style>\n",
              "  .colab-df-quickchart {\n",
              "      --bg-color: #E8F0FE;\n",
              "      --fill-color: #1967D2;\n",
              "      --hover-bg-color: #E2EBFA;\n",
              "      --hover-fill-color: #174EA6;\n",
              "      --disabled-fill-color: #AAA;\n",
              "      --disabled-bg-color: #DDD;\n",
              "  }\n",
              "\n",
              "  [theme=dark] .colab-df-quickchart {\n",
              "      --bg-color: #3B4455;\n",
              "      --fill-color: #D2E3FC;\n",
              "      --hover-bg-color: #434B5C;\n",
              "      --hover-fill-color: #FFFFFF;\n",
              "      --disabled-bg-color: #3B4455;\n",
              "      --disabled-fill-color: #666;\n",
              "  }\n",
              "\n",
              "  .colab-df-quickchart {\n",
              "    background-color: var(--bg-color);\n",
              "    border: none;\n",
              "    border-radius: 50%;\n",
              "    cursor: pointer;\n",
              "    display: none;\n",
              "    fill: var(--fill-color);\n",
              "    height: 32px;\n",
              "    padding: 0;\n",
              "    width: 32px;\n",
              "  }\n",
              "\n",
              "  .colab-df-quickchart:hover {\n",
              "    background-color: var(--hover-bg-color);\n",
              "    box-shadow: 0 1px 2px rgba(60, 64, 67, 0.3), 0 1px 3px 1px rgba(60, 64, 67, 0.15);\n",
              "    fill: var(--button-hover-fill-color);\n",
              "  }\n",
              "\n",
              "  .colab-df-quickchart-complete:disabled,\n",
              "  .colab-df-quickchart-complete:disabled:hover {\n",
              "    background-color: var(--disabled-bg-color);\n",
              "    fill: var(--disabled-fill-color);\n",
              "    box-shadow: none;\n",
              "  }\n",
              "\n",
              "  .colab-df-spinner {\n",
              "    border: 2px solid var(--fill-color);\n",
              "    border-color: transparent;\n",
              "    border-bottom-color: var(--fill-color);\n",
              "    animation:\n",
              "      spin 1s steps(1) infinite;\n",
              "  }\n",
              "\n",
              "  @keyframes spin {\n",
              "    0% {\n",
              "      border-color: transparent;\n",
              "      border-bottom-color: var(--fill-color);\n",
              "      border-left-color: var(--fill-color);\n",
              "    }\n",
              "    20% {\n",
              "      border-color: transparent;\n",
              "      border-left-color: var(--fill-color);\n",
              "      border-top-color: var(--fill-color);\n",
              "    }\n",
              "    30% {\n",
              "      border-color: transparent;\n",
              "      border-left-color: var(--fill-color);\n",
              "      border-top-color: var(--fill-color);\n",
              "      border-right-color: var(--fill-color);\n",
              "    }\n",
              "    40% {\n",
              "      border-color: transparent;\n",
              "      border-right-color: var(--fill-color);\n",
              "      border-top-color: var(--fill-color);\n",
              "    }\n",
              "    60% {\n",
              "      border-color: transparent;\n",
              "      border-right-color: var(--fill-color);\n",
              "    }\n",
              "    80% {\n",
              "      border-color: transparent;\n",
              "      border-right-color: var(--fill-color);\n",
              "      border-bottom-color: var(--fill-color);\n",
              "    }\n",
              "    90% {\n",
              "      border-color: transparent;\n",
              "      border-bottom-color: var(--fill-color);\n",
              "    }\n",
              "  }\n",
              "</style>\n",
              "\n",
              "      <script>\n",
              "        async function quickchart(key) {\n",
              "          const quickchartButtonEl =\n",
              "            document.querySelector('#' + key + ' button');\n",
              "          quickchartButtonEl.disabled = true;  // To prevent multiple clicks.\n",
              "          quickchartButtonEl.classList.add('colab-df-spinner');\n",
              "          try {\n",
              "            const charts = await google.colab.kernel.invokeFunction(\n",
              "                'suggestCharts', [key], {});\n",
              "          } catch (error) {\n",
              "            console.error('Error during call to suggestCharts:', error);\n",
              "          }\n",
              "          quickchartButtonEl.classList.remove('colab-df-spinner');\n",
              "          quickchartButtonEl.classList.add('colab-df-quickchart-complete');\n",
              "        }\n",
              "        (() => {\n",
              "          let quickchartButtonEl =\n",
              "            document.querySelector('#df-fb4f4672-8f82-4ed1-adbb-acde42a8df19 button');\n",
              "          quickchartButtonEl.style.display =\n",
              "            google.colab.kernel.accessAllowed ? 'block' : 'none';\n",
              "        })();\n",
              "      </script>\n",
              "    </div>\n",
              "\n",
              "    </div>\n",
              "  </div>\n"
            ],
            "application/vnd.google.colaboratory.intrinsic+json": {
              "type": "dataframe",
              "variable_name": "df",
              "summary": "{\n  \"name\": \"df\",\n  \"rows\": 49989,\n  \"fields\": [\n    {\n      \"column\": \"city\",\n      \"properties\": {\n        \"dtype\": \"category\",\n        \"num_unique_values\": 3,\n        \"samples\": [\n          \"King's Landing\",\n          \"Astapor\",\n          \"Winterfell\"\n        ],\n        \"semantic_type\": \"\",\n        \"description\": \"\"\n      }\n    },\n    {\n      \"column\": \"trips_in_first_30_days\",\n      \"properties\": {\n        \"dtype\": \"number\",\n        \"std\": 3,\n        \"min\": 0,\n        \"max\": 73,\n        \"num_unique_values\": 58,\n        \"samples\": [\n          4,\n          2,\n          25\n        ],\n        \"semantic_type\": \"\",\n        \"description\": \"\"\n      }\n    },\n    {\n      \"column\": \"signup_date\",\n      \"properties\": {\n        \"dtype\": \"date\",\n        \"min\": \"2014-01-01 00:00:00\",\n        \"max\": \"2014-01-31 00:00:00\",\n        \"num_unique_values\": 31,\n        \"samples\": [\n          \"2014-01-01 00:00:00\",\n          \"2014-01-31 00:00:00\",\n          \"2014-01-20 00:00:00\"\n        ],\n        \"semantic_type\": \"\",\n        \"description\": \"\"\n      }\n    },\n    {\n      \"column\": \"avg_rating_of_driver\",\n      \"properties\": {\n        \"dtype\": \"number\",\n        \"std\": 0.5650218850756658,\n        \"min\": 1.0,\n        \"max\": 5.0,\n        \"num_unique_values\": 38,\n        \"samples\": [\n          1.9,\n          1.6,\n          4.4\n        ],\n        \"semantic_type\": \"\",\n        \"description\": \"\"\n      }\n    },\n    {\n      \"column\": \"avg_surge\",\n      \"properties\": {\n        \"dtype\": \"number\",\n        \"std\": 0.2223578635565335,\n        \"min\": 1.0,\n        \"max\": 8.0,\n        \"num_unique_values\": 115,\n        \"samples\": [\n          1.3900000000000001,\n          1.38,\n          1.45\n        ],\n        \"semantic_type\": \"\",\n        \"description\": \"\"\n      }\n    },\n    {\n      \"column\": \"last_trip_date\",\n      \"properties\": {\n        \"dtype\": \"date\",\n        \"min\": \"2014-01-01 00:00:00\",\n        \"max\": \"2014-07-01 00:00:00\",\n        \"num_unique_values\": 182,\n        \"samples\": [\n          \"2014-06-03 00:00:00\",\n          \"2014-06-18 00:00:00\",\n          \"2014-02-12 00:00:00\"\n        ],\n        \"semantic_type\": \"\",\n        \"description\": \"\"\n      }\n    },\n    {\n      \"column\": \"phone\",\n      \"properties\": {\n        \"dtype\": \"category\",\n        \"num_unique_values\": 2,\n        \"samples\": [\n          \"Android\",\n          \"iPhone\"\n        ],\n        \"semantic_type\": \"\",\n        \"description\": \"\"\n      }\n    },\n    {\n      \"column\": \"surge_pct\",\n      \"properties\": {\n        \"dtype\": \"number\",\n        \"std\": 19.96059883227543,\n        \"min\": 0.0,\n        \"max\": 100.0,\n        \"num_unique_values\": 367,\n        \"samples\": [\n          10.8,\n          7.7\n        ],\n        \"semantic_type\": \"\",\n        \"description\": \"\"\n      }\n    },\n    {\n      \"column\": \"ultimate_black_user\",\n      \"properties\": {\n        \"dtype\": \"boolean\",\n        \"num_unique_values\": 2,\n        \"samples\": [\n          false,\n          true\n        ],\n        \"semantic_type\": \"\",\n        \"description\": \"\"\n      }\n    },\n    {\n      \"column\": \"weekday_pct\",\n      \"properties\": {\n        \"dtype\": \"number\",\n        \"std\": 37.07789490180769,\n        \"min\": 0.0,\n        \"max\": 100.0,\n        \"num_unique_values\": 666,\n        \"samples\": [\n          94.5,\n          86.1\n        ],\n        \"semantic_type\": \"\",\n        \"description\": \"\"\n      }\n    },\n    {\n      \"column\": \"avg_dist\",\n      \"properties\": {\n        \"dtype\": \"number\",\n        \"std\": 5.638153147799933,\n        \"min\": 0.0,\n        \"max\": 79.69,\n        \"num_unique_values\": 2906,\n        \"samples\": [\n          5.44,\n          14.62\n        ],\n        \"semantic_type\": \"\",\n        \"description\": \"\"\n      }\n    },\n    {\n      \"column\": \"avg_rating_by_driver\",\n      \"properties\": {\n        \"dtype\": \"number\",\n        \"std\": 0.4457921927366272,\n        \"min\": 1.0,\n        \"max\": 5.0,\n        \"num_unique_values\": 28,\n        \"samples\": [\n          4.4,\n          2.8\n        ],\n        \"semantic_type\": \"\",\n        \"description\": \"\"\n      }\n    },\n    {\n      \"column\": \"active_user\",\n      \"properties\": {\n        \"dtype\": \"number\",\n        \"std\": 0,\n        \"min\": 0,\n        \"max\": 1,\n        \"num_unique_values\": 2,\n        \"samples\": [\n          0,\n          1\n        ],\n        \"semantic_type\": \"\",\n        \"description\": \"\"\n      }\n    }\n  ]\n}"
            }
          },
          "metadata": {},
          "execution_count": 20
        }
      ]
    },
    {
      "cell_type": "markdown",
      "source": [
        "Now that this is set, we can look at how many users were retained"
      ],
      "metadata": {
        "id": "tIq3MsmYgQyj"
      }
    },
    {
      "cell_type": "code",
      "source": [
        "# Bar chart for retained users\n",
        "df['active_user'].value_counts().plot(kind='bar')\n",
        "plt.title('Active Users')\n",
        "plt.xlabel('Active')\n",
        "plt.xticks([0, 1], ['Inactive', 'Active'], rotation=0)\n",
        "plt.ylabel('Count')\n",
        "plt.show()"
      ],
      "metadata": {
        "colab": {
          "base_uri": "https://localhost:8080/",
          "height": 472
        },
        "id": "3-vhahGlgQeB",
        "outputId": "b0a33358-9289-4667-f726-5419cec7cd5c"
      },
      "execution_count": 21,
      "outputs": [
        {
          "output_type": "display_data",
          "data": {
            "text/plain": [
              "<Figure size 640x480 with 1 Axes>"
            ],
            "image/png": "[encoded data removed]"
          },
          "metadata": {}
        }
      ]
    },
    {
      "cell_type": "markdown",
      "source": [
        "Looks like Inactive users account for a much larger share than active users. We'll analyze this in a pie chart as the goal is to view this is a fraction"
      ],
      "metadata": {
        "id": "39xetqOuiPXg"
      }
    },
    {
      "cell_type": "code",
      "source": [
        "# Pie chart for active users\n",
        "df['active_user'].value_counts().plot(kind='pie', autopct='%1.1f%%', labels=['Inactive', 'Active'])\n",
        "plt.title('Active vs Inactive Users')\n",
        "plt.ylabel('Count')\n",
        "plt.show()"
      ],
      "metadata": {
        "colab": {
          "base_uri": "https://localhost:8080/",
          "height": 428
        },
        "id": "-joQMgQsibRW",
        "outputId": "312505b0-5ee5-47ed-c9ac-5f7e3f9de170"
      },
      "execution_count": 22,
      "outputs": [
        {
          "output_type": "display_data",
          "data": {
            "text/plain": [
              "<Figure size 640x480 with 1 Axes>"
            ],
            "image/png": "[encoded data removed]"
          },
          "metadata": {}
        }
      ]
    },
    {
      "cell_type": "markdown",
      "source": [
        "We retain less than 38% of users from this data. 62.4% of our users who signed up in Jan 2014 are now inactive"
      ],
      "metadata": {
        "id": "xJSMoF__jQNh"
      }
    },
    {
      "cell_type": "code",
      "source": [
        "# Get value counts\n",
        "df['active_user'].value_counts()"
      ],
      "metadata": {
        "colab": {
          "base_uri": "https://localhost:8080/",
          "height": 178
        },
        "id": "g7GlrQcNQ0J7",
        "outputId": "480578f9-566d-4e86-c591-44efd77b52e0"
      },
      "execution_count": 23,
      "outputs": [
        {
          "output_type": "execute_result",
          "data": {
            "text/plain": [
              "active_user\n",
              "0    31187\n",
              "1    18802\n",
              "Name: count, dtype: int64"
            ],
            "text/html": [
              "<div>\n",
              "<style scoped>\n",
              "    .dataframe tbody tr th:only-of-type {\n",
              "        vertical-align: middle;\n",
              "    }\n",
              "\n",
              "    .dataframe tbody tr th {\n",
              "        vertical-align: top;\n",
              "    }\n",
              "\n",
              "    .dataframe thead th {\n",
              "        text-align: right;\n",
              "    }\n",
              "</style>\n",
              "<table border=\"1\" class=\"dataframe\">\n",
              "  <thead>\n",
              "    <tr style=\"text-align: right;\">\n",
              "      <th></th>\n",
              "      <th>count</th>\n",
              "    </tr>\n",
              "    <tr>\n",
              "      <th>active_user</th>\n",
              "      <th></th>\n",
              "    </tr>\n",
              "  </thead>\n",
              "  <tbody>\n",
              "    <tr>\n",
              "      <th>0</th>\n",
              "      <td>31187</td>\n",
              "    </tr>\n",
              "    <tr>\n",
              "      <th>1</th>\n",
              "      <td>18802</td>\n",
              "    </tr>\n",
              "  </tbody>\n",
              "</table>\n",
              "</div><br><label><b>dtype:</b> int64</label>"
            ]
          },
          "metadata": {},
          "execution_count": 23
        }
      ]
    },
    {
      "cell_type": "markdown",
      "source": [
        "Let's look at what correlates to active/inactive users"
      ],
      "metadata": {
        "id": "pn9_TNFmjwcu"
      }
    },
    {
      "cell_type": "markdown",
      "source": [
        "First I'll separate the numeric columns so we can see the numeric correlations"
      ],
      "metadata": {
        "id": "OYaopEFbkLe1"
      }
    },
    {
      "cell_type": "code",
      "source": [
        "# Numeric column\n",
        "num_cols = df.select_dtypes(include=['float64', 'int64'])\n",
        "num_cols.head()"
      ],
      "metadata": {
        "colab": {
          "base_uri": "https://localhost:8080/",
          "height": 226
        },
        "id": "ywDo_h_pkvCe",
        "outputId": "a1e7bd49-e0bc-4688-c816-775595338cad"
      },
      "execution_count": 24,
      "outputs": [
        {
          "output_type": "execute_result",
          "data": {
            "text/plain": [
              "   trips_in_first_30_days  avg_rating_of_driver  avg_surge  surge_pct  \\\n",
              "0                       4                   4.7       1.10       15.4   \n",
              "1                       0                   5.0       1.00        0.0   \n",
              "2                       3                   4.3       1.00        0.0   \n",
              "3                       9                   4.6       1.14       20.0   \n",
              "4                      14                   4.4       1.19       11.8   \n",
              "\n",
              "   weekday_pct  avg_dist  avg_rating_by_driver  active_user  \n",
              "0         46.2      3.67                   5.0            1  \n",
              "1         50.0      8.26                   5.0            0  \n",
              "2        100.0      0.77                   5.0            0  \n",
              "3         80.0      2.36                   4.9            1  \n",
              "4         82.4      3.13                   4.9            0  "
            ],
            "text/html": [
              "\n",
              "  <div id=\"df-bb30705c-bf9a-49aa-bbc4-fdab89532c68\" class=\"colab-df-container\">\n",
              "    <div>\n",
              "<style scoped>\n",
              "    .dataframe tbody tr th:only-of-type {\n",
              "        vertical-align: middle;\n",
              "    }\n",
              "\n",
              "    .dataframe tbody tr th {\n",
              "        vertical-align: top;\n",
              "    }\n",
              "\n",
              "    .dataframe thead th {\n",
              "        text-align: right;\n",
              "    }\n",
              "</style>\n",
              "<table border=\"1\" class=\"dataframe\">\n",
              "  <thead>\n",
              "    <tr style=\"text-align: right;\">\n",
              "      <th></th>\n",
              "      <th>trips_in_first_30_days</th>\n",
              "      <th>avg_rating_of_driver</th>\n",
              "      <th>avg_surge</th>\n",
              "      <th>surge_pct</th>\n",
              "      <th>weekday_pct</th>\n",
              "      <th>avg_dist</th>\n",
              "      <th>avg_rating_by_driver</th>\n",
              "      <th>active_user</th>\n",
              "    </tr>\n",
              "  </thead>\n",
              "  <tbody>\n",
              "    <tr>\n",
              "      <th>0</th>\n",
              "      <td>4</td>\n",
              "      <td>4.7</td>\n",
              "      <td>1.10</td>\n",
              "      <td>15.4</td>\n",
              "      <td>46.2</td>\n",
              "      <td>3.67</td>\n",
              "      <td>5.0</td>\n",
              "      <td>1</td>\n",
              "    </tr>\n",
              "    <tr>\n",
              "      <th>1</th>\n",
              "      <td>0</td>\n",
              "      <td>5.0</td>\n",
              "      <td>1.00</td>\n",
              "      <td>0.0</td>\n",
              "      <td>50.0</td>\n",
              "      <td>8.26</td>\n",
              "      <td>5.0</td>\n",
              "      <td>0</td>\n",
              "    </tr>\n",
              "    <tr>\n",
              "      <th>2</th>\n",
              "      <td>3</td>\n",
              "      <td>4.3</td>\n",
              "      <td>1.00</td>\n",
              "      <td>0.0</td>\n",
              "      <td>100.0</td>\n",
              "      <td>0.77</td>\n",
              "      <td>5.0</td>\n",
              "      <td>0</td>\n",
              "    </tr>\n",
              "    <tr>\n",
              "      <th>3</th>\n",
              "      <td>9</td>\n",
              "      <td>4.6</td>\n",
              "      <td>1.14</td>\n",
              "      <td>20.0</td>\n",
              "      <td>80.0</td>\n",
              "      <td>2.36</td>\n",
              "      <td>4.9</td>\n",
              "      <td>1</td>\n",
              "    </tr>\n",
              "    <tr>\n",
              "      <th>4</th>\n",
              "      <td>14</td>\n",
              "      <td>4.4</td>\n",
              "      <td>1.19</td>\n",
              "      <td>11.8</td>\n",
              "      <td>82.4</td>\n",
              "      <td>3.13</td>\n",
              "      <td>4.9</td>\n",
              "      <td>0</td>\n",
              "    </tr>\n",
              "  </tbody>\n",
              "</table>\n",
              "</div>\n",
              "    <div class=\"colab-df-buttons\">\n",
              "\n",
              "  <div class=\"colab-df-container\">\n",
              "    <button class=\"colab-df-convert\" onclick=\"convertToInteractive('df-bb30705c-bf9a-49aa-bbc4-fdab89532c68')\"\n",
              "            title=\"Convert this dataframe to an interactive table.\"\n",
              "            style=\"display:none;\">\n",
              "\n",
              "  <svg xmlns=\"http://www.w3.org/2000/svg\" height=\"24px\" viewBox=\"0 -960 960 960\">\n",
              "    <path d=\"M120-120v-720h720v720H120Zm60-500h600v-160H180v160Zm220 220h160v-160H400v160Zm0 220h160v-160H400v160ZM180-400h160v-160H180v160Zm440 0h160v-160H620v160ZM180-180h160v-160H180v160Zm440 0h160v-160H620v160Z\"/>\n",
              "  </svg>\n",
              "    </button>\n",
              "\n",
              "  <style>\n",
              "    .colab-df-container {\n",
              "      display:flex;\n",
              "      gap: 12px;\n",
              "    }\n",
              "\n",
              "    .colab-df-convert {\n",
              "      background-color: #E8F0FE;\n",
              "      border: none;\n",
              "      border-radius: 50%;\n",
              "      cursor: pointer;\n",
              "      display: none;\n",
              "      fill: #1967D2;\n",
              "      height: 32px;\n",
              "      padding: 0 0 0 0;\n",
              "      width: 32px;\n",
              "    }\n",
              "\n",
              "    .colab-df-convert:hover {\n",
              "      background-color: #E2EBFA;\n",
              "      box-shadow: 0px 1px 2px rgba(60, 64, 67, 0.3), 0px 1px 3px 1px rgba(60, 64, 67, 0.15);\n",
              "      fill: #174EA6;\n",
              "    }\n",
              "\n",
              "    .colab-df-buttons div {\n",
              "      margin-bottom: 4px;\n",
              "    }\n",
              "\n",
              "    [theme=dark] .colab-df-convert {\n",
              "      background-color: #3B4455;\n",
              "      fill: #D2E3FC;\n",
              "    }\n",
              "\n",
              "    [theme=dark] .colab-df-convert:hover {\n",
              "      background-color: #434B5C;\n",
              "      box-shadow: 0px 1px 3px 1px rgba(0, 0, 0, 0.15);\n",
              "      filter: drop-shadow(0px 1px 2px rgba(0, 0, 0, 0.3));\n",
              "      fill: #FFFFFF;\n",
              "    }\n",
              "  </style>\n",
              "\n",
              "    <script>\n",
              "      const buttonEl =\n",
              "        document.querySelector('#df-bb30705c-bf9a-49aa-bbc4-fdab89532c68 button.colab-df-convert');\n",
              "      buttonEl.style.display =\n",
              "        google.colab.kernel.accessAllowed ? 'block' : 'none';\n",
              "\n",
              "      async function convertToInteractive(key) {\n",
              "        const element = document.querySelector('#df-bb30705c-bf9a-49aa-bbc4-fdab89532c68');\n",
              "        const dataTable =\n",
              "          await google.colab.kernel.invokeFunction('convertToInteractive',\n",
              "                                                    [key], {});\n",
              "        if (!dataTable) return;\n",
              "\n",
              "        const docLinkHtml = 'Like what you see? Visit the ' +\n",
              "          '<a target=\"_blank\" href=https://colab.research.google.com/notebooks/data_table.ipynb>data table notebook</a>'\n",
              "          + ' to learn more about interactive tables.';\n",
              "        element.innerHTML = '';\n",
              "        dataTable['output_type'] = 'display_data';\n",
              "        await google.colab.output.renderOutput(dataTable, element);\n",
              "        const docLink = document.createElement('div');\n",
              "        docLink.innerHTML = docLinkHtml;\n",
              "        element.appendChild(docLink);\n",
              "      }\n",
              "    </script>\n",
              "  </div>\n",
              "\n",
              "\n",
              "    <div id=\"df-80a91547-b5eb-40c7-9a41-38a557545aa8\">\n",
              "      <button class=\"colab-df-quickchart\" onclick=\"quickchart('df-80a91547-b5eb-40c7-9a41-38a557545aa8')\"\n",
              "                title=\"Suggest charts\"\n",
              "                style=\"display:none;\">\n",
              "\n",
              "<svg xmlns=\"http://www.w3.org/2000/svg\" height=\"24px\"viewBox=\"0 0 24 24\"\n",
              "     width=\"24px\">\n",
              "    <g>\n",
              "        <path d=\"M19 3H5c-1.1 0-2 .9-2 2v14c0 1.1.9 2 2 2h14c1.1 0 2-.9 2-2V5c0-1.1-.9-2-2-2zM9 17H7v-7h2v7zm4 0h-2V7h2v10zm4 0h-2v-4h2v4z\"/>\n",
              "    </g>\n",
              "</svg>\n",
              "      </button>\n",
              "\n",
              "<style>\n",
              "  .colab-df-quickchart {\n",
              "      --bg-color: #E8F0FE;\n",
              "      --fill-color: #1967D2;\n",
              "      --hover-bg-color: #E2EBFA;\n",
              "      --hover-fill-color: #174EA6;\n",
              "      --disabled-fill-color: #AAA;\n",
              "      --disabled-bg-color: #DDD;\n",
              "  }\n",
              "\n",
              "  [theme=dark] .colab-df-quickchart {\n",
              "      --bg-color: #3B4455;\n",
              "      --fill-color: #D2E3FC;\n",
              "      --hover-bg-color: #434B5C;\n",
              "      --hover-fill-color: #FFFFFF;\n",
              "      --disabled-bg-color: #3B4455;\n",
              "      --disabled-fill-color: #666;\n",
              "  }\n",
              "\n",
              "  .colab-df-quickchart {\n",
              "    background-color: var(--bg-color);\n",
              "    border: none;\n",
              "    border-radius: 50%;\n",
              "    cursor: pointer;\n",
              "    display: none;\n",
              "    fill: var(--fill-color);\n",
              "    height: 32px;\n",
              "    padding: 0;\n",
              "    width: 32px;\n",
              "  }\n",
              "\n",
              "  .colab-df-quickchart:hover {\n",
              "    background-color: var(--hover-bg-color);\n",
              "    box-shadow: 0 1px 2px rgba(60, 64, 67, 0.3), 0 1px 3px 1px rgba(60, 64, 67, 0.15);\n",
              "    fill: var(--button-hover-fill-color);\n",
              "  }\n",
              "\n",
              "  .colab-df-quickchart-complete:disabled,\n",
              "  .colab-df-quickchart-complete:disabled:hover {\n",
              "    background-color: var(--disabled-bg-color);\n",
              "    fill: var(--disabled-fill-color);\n",
              "    box-shadow: none;\n",
              "  }\n",
              "\n",
              "  .colab-df-spinner {\n",
              "    border: 2px solid var(--fill-color);\n",
              "    border-color: transparent;\n",
              "    border-bottom-color: var(--fill-color);\n",
              "    animation:\n",
              "      spin 1s steps(1) infinite;\n",
              "  }\n",
              "\n",
              "  @keyframes spin {\n",
              "    0% {\n",
              "      border-color: transparent;\n",
              "      border-bottom-color: var(--fill-color);\n",
              "      border-left-color: var(--fill-color);\n",
              "    }\n",
              "    20% {\n",
              "      border-color: transparent;\n",
              "      border-left-color: var(--fill-color);\n",
              "      border-top-color: var(--fill-color);\n",
              "    }\n",
              "    30% {\n",
              "      border-color: transparent;\n",
              "      border-left-color: var(--fill-color);\n",
              "      border-top-color: var(--fill-color);\n",
              "      border-right-color: var(--fill-color);\n",
              "    }\n",
              "    40% {\n",
              "      border-color: transparent;\n",
              "      border-right-color: var(--fill-color);\n",
              "      border-top-color: var(--fill-color);\n",
              "    }\n",
              "    60% {\n",
              "      border-color: transparent;\n",
              "      border-right-color: var(--fill-color);\n",
              "    }\n",
              "    80% {\n",
              "      border-color: transparent;\n",
              "      border-right-color: var(--fill-color);\n",
              "      border-bottom-color: var(--fill-color);\n",
              "    }\n",
              "    90% {\n",
              "      border-color: transparent;\n",
              "      border-bottom-color: var(--fill-color);\n",
              "    }\n",
              "  }\n",
              "</style>\n",
              "\n",
              "      <script>\n",
              "        async function quickchart(key) {\n",
              "          const quickchartButtonEl =\n",
              "            document.querySelector('#' + key + ' button');\n",
              "          quickchartButtonEl.disabled = true;  // To prevent multiple clicks.\n",
              "          quickchartButtonEl.classList.add('colab-df-spinner');\n",
              "          try {\n",
              "            const charts = await google.colab.kernel.invokeFunction(\n",
              "                'suggestCharts', [key], {});\n",
              "          } catch (error) {\n",
              "            console.error('Error during call to suggestCharts:', error);\n",
              "          }\n",
              "          quickchartButtonEl.classList.remove('colab-df-spinner');\n",
              "          quickchartButtonEl.classList.add('colab-df-quickchart-complete');\n",
              "        }\n",
              "        (() => {\n",
              "          let quickchartButtonEl =\n",
              "            document.querySelector('#df-80a91547-b5eb-40c7-9a41-38a557545aa8 button');\n",
              "          quickchartButtonEl.style.display =\n",
              "            google.colab.kernel.accessAllowed ? 'block' : 'none';\n",
              "        })();\n",
              "      </script>\n",
              "    </div>\n",
              "\n",
              "    </div>\n",
              "  </div>\n"
            ],
            "application/vnd.google.colaboratory.intrinsic+json": {
              "type": "dataframe",
              "variable_name": "num_cols",
              "summary": "{\n  \"name\": \"num_cols\",\n  \"rows\": 49989,\n  \"fields\": [\n    {\n      \"column\": \"trips_in_first_30_days\",\n      \"properties\": {\n        \"dtype\": \"number\",\n        \"std\": 3,\n        \"min\": 0,\n        \"max\": 73,\n        \"num_unique_values\": 58,\n        \"samples\": [\n          4,\n          2,\n          25\n        ],\n        \"semantic_type\": \"\",\n        \"description\": \"\"\n      }\n    },\n    {\n      \"column\": \"avg_rating_of_driver\",\n      \"properties\": {\n        \"dtype\": \"number\",\n        \"std\": 0.5650218850756658,\n        \"min\": 1.0,\n        \"max\": 5.0,\n        \"num_unique_values\": 38,\n        \"samples\": [\n          1.9,\n          1.6,\n          4.4\n        ],\n        \"semantic_type\": \"\",\n        \"description\": \"\"\n      }\n    },\n    {\n      \"column\": \"avg_surge\",\n      \"properties\": {\n        \"dtype\": \"number\",\n        \"std\": 0.2223578635565335,\n        \"min\": 1.0,\n        \"max\": 8.0,\n        \"num_unique_values\": 115,\n        \"samples\": [\n          1.3900000000000001,\n          1.38,\n          1.45\n        ],\n        \"semantic_type\": \"\",\n        \"description\": \"\"\n      }\n    },\n    {\n      \"column\": \"surge_pct\",\n      \"properties\": {\n        \"dtype\": \"number\",\n        \"std\": 19.96059883227543,\n        \"min\": 0.0,\n        \"max\": 100.0,\n        \"num_unique_values\": 367,\n        \"samples\": [\n          10.8,\n          7.7,\n          18.2\n        ],\n        \"semantic_type\": \"\",\n        \"description\": \"\"\n      }\n    },\n    {\n      \"column\": \"weekday_pct\",\n      \"properties\": {\n        \"dtype\": \"number\",\n        \"std\": 37.07789490180769,\n        \"min\": 0.0,\n        \"max\": 100.0,\n        \"num_unique_values\": 666,\n        \"samples\": [\n          94.5,\n          86.1,\n          96.1\n        ],\n        \"semantic_type\": \"\",\n        \"description\": \"\"\n      }\n    },\n    {\n      \"column\": \"avg_dist\",\n      \"properties\": {\n        \"dtype\": \"number\",\n        \"std\": 5.638153147799933,\n        \"min\": 0.0,\n        \"max\": 79.69,\n        \"num_unique_values\": 2906,\n        \"samples\": [\n          5.44,\n          14.62,\n          1.19\n        ],\n        \"semantic_type\": \"\",\n        \"description\": \"\"\n      }\n    },\n    {\n      \"column\": \"avg_rating_by_driver\",\n      \"properties\": {\n        \"dtype\": \"number\",\n        \"std\": 0.4457921927366272,\n        \"min\": 1.0,\n        \"max\": 5.0,\n        \"num_unique_values\": 28,\n        \"samples\": [\n          4.4,\n          2.8,\n          4.77815819594771\n        ],\n        \"semantic_type\": \"\",\n        \"description\": \"\"\n      }\n    },\n    {\n      \"column\": \"active_user\",\n      \"properties\": {\n        \"dtype\": \"number\",\n        \"std\": 0,\n        \"min\": 0,\n        \"max\": 1,\n        \"num_unique_values\": 2,\n        \"samples\": [\n          0,\n          1\n        ],\n        \"semantic_type\": \"\",\n        \"description\": \"\"\n      }\n    }\n  ]\n}"
            }
          },
          "metadata": {},
          "execution_count": 24
        }
      ]
    },
    {
      "cell_type": "code",
      "source": [
        "# Correlation to active/inactive\n",
        "num_cols.corr()['active_user']"
      ],
      "metadata": {
        "colab": {
          "base_uri": "https://localhost:8080/",
          "height": 335
        },
        "id": "vJX0DJy5j0Ms",
        "outputId": "76375bd3-e278-42e9-b011-b24c621552e8"
      },
      "execution_count": 25,
      "outputs": [
        {
          "output_type": "execute_result",
          "data": {
            "text/plain": [
              "trips_in_first_30_days    0.211846\n",
              "avg_rating_of_driver     -0.010793\n",
              "avg_surge                -0.003377\n",
              "surge_pct                 0.011740\n",
              "weekday_pct               0.009557\n",
              "avg_dist                 -0.094347\n",
              "avg_rating_by_driver     -0.026683\n",
              "active_user               1.000000\n",
              "Name: active_user, dtype: float64"
            ],
            "text/html": [
              "<div>\n",
              "<style scoped>\n",
              "    .dataframe tbody tr th:only-of-type {\n",
              "        vertical-align: middle;\n",
              "    }\n",
              "\n",
              "    .dataframe tbody tr th {\n",
              "        vertical-align: top;\n",
              "    }\n",
              "\n",
              "    .dataframe thead th {\n",
              "        text-align: right;\n",
              "    }\n",
              "</style>\n",
              "<table border=\"1\" class=\"dataframe\">\n",
              "  <thead>\n",
              "    <tr style=\"text-align: right;\">\n",
              "      <th></th>\n",
              "      <th>active_user</th>\n",
              "    </tr>\n",
              "  </thead>\n",
              "  <tbody>\n",
              "    <tr>\n",
              "      <th>trips_in_first_30_days</th>\n",
              "      <td>0.211846</td>\n",
              "    </tr>\n",
              "    <tr>\n",
              "      <th>avg_rating_of_driver</th>\n",
              "      <td>-0.010793</td>\n",
              "    </tr>\n",
              "    <tr>\n",
              "      <th>avg_surge</th>\n",
              "      <td>-0.003377</td>\n",
              "    </tr>\n",
              "    <tr>\n",
              "      <th>surge_pct</th>\n",
              "      <td>0.011740</td>\n",
              "    </tr>\n",
              "    <tr>\n",
              "      <th>weekday_pct</th>\n",
              "      <td>0.009557</td>\n",
              "    </tr>\n",
              "    <tr>\n",
              "      <th>avg_dist</th>\n",
              "      <td>-0.094347</td>\n",
              "    </tr>\n",
              "    <tr>\n",
              "      <th>avg_rating_by_driver</th>\n",
              "      <td>-0.026683</td>\n",
              "    </tr>\n",
              "    <tr>\n",
              "      <th>active_user</th>\n",
              "      <td>1.000000</td>\n",
              "    </tr>\n",
              "  </tbody>\n",
              "</table>\n",
              "</div><br><label><b>dtype:</b> float64</label>"
            ]
          },
          "metadata": {},
          "execution_count": 25
        }
      ]
    },
    {
      "cell_type": "markdown",
      "source": [
        "Trips in the\n",
        " first 30 days has the highest correlation but no other results have a very strong positive or negative correlation"
      ],
      "metadata": {
        "id": "PGJoRDVBlBjJ"
      }
    },
    {
      "cell_type": "code",
      "source": [
        "# Create bins for bar plot\n",
        "bins = [0, 10, 20, 30, 40, 50, 100]\n",
        "df['trips_first_30_binned'] = pd.cut(df['trips_in_first_30_days'], bins)\n",
        "\n",
        "# View trips in first 30 days vs active user in bar plot\n",
        "ax1 = df.groupby('trips_first_30_binned')['active_user']\\\n",
        "                .value_counts(normalize=True)\\\n",
        "                .unstack()\\\n",
        "                .plot(kind='bar', stacked=True)\n",
        "ax1.set_xlabel('Trips in First 30 Days')\n",
        "ax1.set_ylabel('Percentage')\n",
        "ax1.set_title('Percentage of Active/Inactive Users by Trips in First 30 Days')\n",
        "\n",
        "ax2 = df.groupby('trips_first_30_binned')['active_user']\\\n",
        "                .value_counts()\\\n",
        "                .unstack()\\\n",
        "                .plot(kind='bar', stacked=True)\n",
        "ax2.set_xlabel('Trips in First 30 Days')\n",
        "ax2.set_ylabel('Count')\n",
        "ax2.set_title('Count of Active/Inactive Users by Trips in First 30 Days')\n",
        "\n",
        "handles, labels = ax1.get_legend_handles_labels()\n",
        "ax1.legend(handles, ['Inactive', 'Active'], title='active_user')\n",
        "ax2.legend(handles, ['Inactive', 'Active'], title='active_user')"
      ],
      "metadata": {
        "colab": {
          "base_uri": "https://localhost:8080/",
          "height": 1000
        },
        "id": "CVbiyRRKlMwF",
        "outputId": "fdecf615-9acc-4ea4-a038-9be1dc07a77f"
      },
      "execution_count": 26,
      "outputs": [
        {
          "output_type": "stream",
          "name": "stderr",
          "text": [
            "/tmp/ipython-input-504773604.py:6: FutureWarning: The default of observed=False is deprecated and will be changed to True in a future version of pandas. Pass observed=False to retain current behavior or observed=True to adopt the future default and silence this warning.\n",
            "  ax1 = df.groupby('trips_first_30_binned')['active_user']\\\n",
            "/tmp/ipython-input-504773604.py:14: FutureWarning: The default of observed=False is deprecated and will be changed to True in a future version of pandas. Pass observed=False to retain current behavior or observed=True to adopt the future default and silence this warning.\n",
            "  ax2 = df.groupby('trips_first_30_binned')['active_user']\\\n"
          ]
        },
        {
          "output_type": "execute_result",
          "data": {
            "text/plain": [
              "<matplotlib.legend.Legend at 0x7879c409b110>"
            ]
          },
          "metadata": {},
          "execution_count": 26
        },
        {
          "output_type": "display_data",
          "data": {
            "text/plain": [
              "<Figure size 640x480 with 1 Axes>"
            ],
            "image/png": "[encoded data removed]"
          },
          "metadata": {}
        },
        {
          "output_type": "display_data",
          "data": {
            "text/plain": [
              "<Figure size 640x480 with 1 Axes>"
            ],
            "image/png": "[encoded data removed]"
          },
          "metadata": {}
        }
      ]
    },
    {
      "cell_type": "code",
      "source": [
        "# Drop binned column\n",
        "df = df.drop('trips_first_30_binned', axis=1)"
      ],
      "metadata": {
        "id": "nUd6UkUuBL7j"
      },
      "execution_count": 27,
      "outputs": []
    },
    {
      "cell_type": "markdown",
      "source": [
        "We can see that as the number of trips gets above 10, a much larger share of users are active. However a majority of the study have taken 10 or less trips."
      ],
      "metadata": {
        "id": "VW4NATnUyql5"
      }
    },
    {
      "cell_type": "markdown",
      "source": [
        "Now we can check correlation with any categorical variables. First we'll look at it by city"
      ],
      "metadata": {
        "id": "sHW5Ka6Dy-Xr"
      }
    },
    {
      "cell_type": "code",
      "source": [
        "# City vs Active/inactive\n",
        "ax = df.groupby('city')['active_user']\\\n",
        "                .value_counts()\\\n",
        "                .unstack()\\\n",
        "                .plot(kind='bar')\n",
        "ax.set_title('Active/Inactive Users by City')\n",
        "ax.set_xlabel('City')\n",
        "ax.set_ylabel('Count')\n",
        "\n",
        "handles, labels = ax.get_legend_handles_labels()\n",
        "ax.legend(handles, ['Inactive', 'Active'], title='active_user')\n",
        "plt.show()"
      ],
      "metadata": {
        "colab": {
          "base_uri": "https://localhost:8080/",
          "height": 559
        },
        "id": "OcF0GdsnzEm_",
        "outputId": "9f49b153-a729-4c63-acbf-090fa214a80b"
      },
      "execution_count": 28,
      "outputs": [
        {
          "output_type": "display_data",
          "data": {
            "text/plain": [
              "<Figure size 640x480 with 1 Axes>"
            ],
            "image/png": "[encoded data removed]"
          },
          "metadata": {}
        }
      ]
    },
    {
      "cell_type": "markdown",
      "source": [
        "King's landing is the only city with more active than inactive users. This could be an area to focus on as it has the least amount of signups in total. Both Winterfell and Astapor heavily lean towrad inactive users"
      ],
      "metadata": {
        "id": "UDYEi8kezmUS"
      }
    },
    {
      "cell_type": "markdown",
      "source": [
        "Next, we'll look at it by phone type"
      ],
      "metadata": {
        "id": "UpH3WPGp0Fhw"
      }
    },
    {
      "cell_type": "code",
      "source": [
        "# Phone type by active user\n",
        "ax = df.groupby('phone')['active_user']\\\n",
        "                .value_counts()\\\n",
        "                .unstack()\\\n",
        "                .plot(kind='bar')\n",
        "ax.set_title('Active/Inactive Users by Phone Type')\n",
        "ax.set_xlabel('Phone')\n",
        "ax.set_ylabel('Count')\n",
        "\n",
        "handles, labels = ax.get_legend_handles_labels()\n",
        "ax.legend(handles, ['Inactive', 'Active'], title='active_user')\n",
        "plt.show()"
      ],
      "metadata": {
        "colab": {
          "base_uri": "https://localhost:8080/",
          "height": 512
        },
        "id": "ysuaWNBE0Enz",
        "outputId": "88f90b45-0cae-4736-e824-571b5a6c9acf"
      },
      "execution_count": 29,
      "outputs": [
        {
          "output_type": "display_data",
          "data": {
            "text/plain": [
              "<Figure size 640x480 with 1 Axes>"
            ],
            "image/png": "[encoded data removed]"
          },
          "metadata": {}
        }
      ]
    },
    {
      "cell_type": "markdown",
      "source": [
        "We can see that iPhone users are far more likely to remain active users than Android users."
      ],
      "metadata": {
        "id": "3Sgp0E3m08_d"
      }
    },
    {
      "cell_type": "markdown",
      "source": [
        "Last, we'll see how it compares with Ultimate black users or not"
      ],
      "metadata": {
        "id": "UvGO_bZw0T3Y"
      }
    },
    {
      "cell_type": "code",
      "source": [
        "# Active user by ultimate black user standing\n",
        "ax = df.groupby('ultimate_black_user')['active_user']\\\n",
        "                .value_counts()\\\n",
        "                .unstack()\\\n",
        "                .plot(kind='bar')\n",
        "ax.set_title('Ultimate Black Users - Active/Inactive')\n",
        "ax.set_xlabel('Ultimate Black User')\n",
        "ax.set_ylabel('Count')\n",
        "\n",
        "handles, labels = ax.get_legend_handles_labels()\n",
        "ax.legend(handles, ['Inactive', 'Active'], title='active_user')\n",
        "plt.show()"
      ],
      "metadata": {
        "colab": {
          "base_uri": "https://localhost:8080/",
          "height": 493
        },
        "id": "Fda63n-Q2NjB",
        "outputId": "868da672-8f69-4c88-bc7d-412f7f2e2913"
      },
      "execution_count": 30,
      "outputs": [
        {
          "output_type": "display_data",
          "data": {
            "text/plain": [
              "<Figure size 640x480 with 1 Axes>"
            ],
            "image/png": "[encoded data removed]"
          },
          "metadata": {}
        }
      ]
    },
    {
      "cell_type": "markdown",
      "source": [
        "We can see that Ultimate Black users are more likely to be active. There are a larger number of users that aren't Ultimate Black subscribers but most of them are inactive."
      ],
      "metadata": {
        "id": "aeXjcJlm2jgb"
      }
    },
    {
      "cell_type": "markdown",
      "source": [
        "In total, users in Kings Landing, iPhone users, and Ultimate Black subscribers correlate most positively with retention. No other categories have much of a strong correlation."
      ],
      "metadata": {
        "id": "3F16iz-73BJp"
      }
    },
    {
      "cell_type": "markdown",
      "source": [
        "## Predictive Modeling\n",
        "Will a user be active in their 6th month on the system?"
      ],
      "metadata": {
        "id": "ohJvPl2oymSW"
      }
    },
    {
      "cell_type": "markdown",
      "source": [
        "###Encode Categorical Data"
      ],
      "metadata": {
        "id": "4RfmKHsi3VZ7"
      }
    },
    {
      "cell_type": "markdown",
      "source": [
        "Before modeling, we'll preprocess our categorical variables by using one hot encoding. First we'll create a function for ease of use."
      ],
      "metadata": {
        "id": "dEQT3ZV9-Jng"
      }
    },
    {
      "cell_type": "code",
      "source": [
        "# OHE function\n",
        "def ohe(column):\n",
        "  \"\"\"Function to encode categorical columns\"\"\"\n",
        "  df_ohe = pd.get_dummies(df[column], dtype=int)\n",
        "  encode_df = pd.concat([df, df_ohe], axis=1)\n",
        "  encode_df = encode_df.drop(column, axis=1)\n",
        "  return encode_df"
      ],
      "metadata": {
        "id": "PcXkPuci-JHs"
      },
      "execution_count": 31,
      "outputs": []
    },
    {
      "cell_type": "code",
      "source": [
        "# Encode city column\n",
        "df = ohe('city')"
      ],
      "metadata": {
        "id": "wRjhxAke___N"
      },
      "execution_count": 32,
      "outputs": []
    },
    {
      "cell_type": "code",
      "source": [
        "# Encode phone column\n",
        "df = ohe('phone')"
      ],
      "metadata": {
        "id": "qcQPtFdwB6Ba"
      },
      "execution_count": 33,
      "outputs": []
    },
    {
      "cell_type": "code",
      "source": [
        "# Encode boolean Ultimate black user column\n",
        "df['ultimate_black_user'] = df['ultimate_black_user'].astype(int)\n",
        "df.head()"
      ],
      "metadata": {
        "colab": {
          "base_uri": "https://localhost:8080/",
          "height": 244
        },
        "id": "umsrylbQB-wQ",
        "outputId": "7b57b379-4022-4136-9306-a9ee300717fb"
      },
      "execution_count": 34,
      "outputs": [
        {
          "output_type": "execute_result",
          "data": {
            "text/plain": [
              "   trips_in_first_30_days signup_date  avg_rating_of_driver  avg_surge  \\\n",
              "0                       4  2014-01-25                   4.7       1.10   \n",
              "1                       0  2014-01-29                   5.0       1.00   \n",
              "2                       3  2014-01-06                   4.3       1.00   \n",
              "3                       9  2014-01-10                   4.6       1.14   \n",
              "4                      14  2014-01-27                   4.4       1.19   \n",
              "\n",
              "  last_trip_date  surge_pct  ultimate_black_user  weekday_pct  avg_dist  \\\n",
              "0     2014-06-17       15.4                    1         46.2      3.67   \n",
              "1     2014-05-05        0.0                    0         50.0      8.26   \n",
              "2     2014-01-07        0.0                    0        100.0      0.77   \n",
              "3     2014-06-29       20.0                    1         80.0      2.36   \n",
              "4     2014-03-15       11.8                    0         82.4      3.13   \n",
              "\n",
              "   avg_rating_by_driver  active_user  Astapor  King's Landing  Winterfell  \\\n",
              "0                   5.0            1        0               1           0   \n",
              "1                   5.0            0        1               0           0   \n",
              "2                   5.0            0        1               0           0   \n",
              "3                   4.9            1        0               1           0   \n",
              "4                   4.9            0        0               0           1   \n",
              "\n",
              "   Android  iPhone  \n",
              "0        0       1  \n",
              "1        1       0  \n",
              "2        0       1  \n",
              "3        0       1  \n",
              "4        1       0  "
            ],
            "text/html": [
              "\n",
              "  <div id=\"df-157e981a-0474-4342-a7d6-924e420f7d40\" class=\"colab-df-container\">\n",
              "    <div>\n",
              "<style scoped>\n",
              "    .dataframe tbody tr th:only-of-type {\n",
              "        vertical-align: middle;\n",
              "    }\n",
              "\n",
              "    .dataframe tbody tr th {\n",
              "        vertical-align: top;\n",
              "    }\n",
              "\n",
              "    .dataframe thead th {\n",
              "        text-align: right;\n",
              "    }\n",
              "</style>\n",
              "<table border=\"1\" class=\"dataframe\">\n",
              "  <thead>\n",
              "    <tr style=\"text-align: right;\">\n",
              "      <th></th>\n",
              "      <th>trips_in_first_30_days</th>\n",
              "      <th>signup_date</th>\n",
              "      <th>avg_rating_of_driver</th>\n",
              "      <th>avg_surge</th>\n",
              "      <th>last_trip_date</th>\n",
              "      <th>surge_pct</th>\n",
              "      <th>ultimate_black_user</th>\n",
              "      <th>weekday_pct</th>\n",
              "      <th>avg_dist</th>\n",
              "      <th>avg_rating_by_driver</th>\n",
              "      <th>active_user</th>\n",
              "      <th>Astapor</th>\n",
              "      <th>King's Landing</th>\n",
              "      <th>Winterfell</th>\n",
              "      <th>Android</th>\n",
              "      <th>iPhone</th>\n",
              "    </tr>\n",
              "  </thead>\n",
              "  <tbody>\n",
              "    <tr>\n",
              "      <th>0</th>\n",
              "      <td>4</td>\n",
              "      <td>2014-01-25</td>\n",
              "      <td>4.7</td>\n",
              "      <td>1.10</td>\n",
              "      <td>2014-06-17</td>\n",
              "      <td>15.4</td>\n",
              "      <td>1</td>\n",
              "      <td>46.2</td>\n",
              "      <td>3.67</td>\n",
              "      <td>5.0</td>\n",
              "      <td>1</td>\n",
              "      <td>0</td>\n",
              "      <td>1</td>\n",
              "      <td>0</td>\n",
              "      <td>0</td>\n",
              "      <td>1</td>\n",
              "    </tr>\n",
              "    <tr>\n",
              "      <th>1</th>\n",
              "      <td>0</td>\n",
              "      <td>2014-01-29</td>\n",
              "      <td>5.0</td>\n",
              "      <td>1.00</td>\n",
              "      <td>2014-05-05</td>\n",
              "      <td>0.0</td>\n",
              "      <td>0</td>\n",
              "      <td>50.0</td>\n",
              "      <td>8.26</td>\n",
              "      <td>5.0</td>\n",
              "      <td>0</td>\n",
              "      <td>1</td>\n",
              "      <td>0</td>\n",
              "      <td>0</td>\n",
              "      <td>1</td>\n",
              "      <td>0</td>\n",
              "    </tr>\n",
              "    <tr>\n",
              "      <th>2</th>\n",
              "      <td>3</td>\n",
              "      <td>2014-01-06</td>\n",
              "      <td>4.3</td>\n",
              "      <td>1.00</td>\n",
              "      <td>2014-01-07</td>\n",
              "      <td>0.0</td>\n",
              "      <td>0</td>\n",
              "      <td>100.0</td>\n",
              "      <td>0.77</td>\n",
              "      <td>5.0</td>\n",
              "      <td>0</td>\n",
              "      <td>1</td>\n",
              "      <td>0</td>\n",
              "      <td>0</td>\n",
              "      <td>0</td>\n",
              "      <td>1</td>\n",
              "    </tr>\n",
              "    <tr>\n",
              "      <th>3</th>\n",
              "      <td>9</td>\n",
              "      <td>2014-01-10</td>\n",
              "      <td>4.6</td>\n",
              "      <td>1.14</td>\n",
              "      <td>2014-06-29</td>\n",
              "      <td>20.0</td>\n",
              "      <td>1</td>\n",
              "      <td>80.0</td>\n",
              "      <td>2.36</td>\n",
              "      <td>4.9</td>\n",
              "      <td>1</td>\n",
              "      <td>0</td>\n",
              "      <td>1</td>\n",
              "      <td>0</td>\n",
              "      <td>0</td>\n",
              "      <td>1</td>\n",
              "    </tr>\n",
              "    <tr>\n",
              "      <th>4</th>\n",
              "      <td>14</td>\n",
              "      <td>2014-01-27</td>\n",
              "      <td>4.4</td>\n",
              "      <td>1.19</td>\n",
              "      <td>2014-03-15</td>\n",
              "      <td>11.8</td>\n",
              "      <td>0</td>\n",
              "      <td>82.4</td>\n",
              "      <td>3.13</td>\n",
              "      <td>4.9</td>\n",
              "      <td>0</td>\n",
              "      <td>0</td>\n",
              "      <td>0</td>\n",
              "      <td>1</td>\n",
              "      <td>1</td>\n",
              "      <td>0</td>\n",
              "    </tr>\n",
              "  </tbody>\n",
              "</table>\n",
              "</div>\n",
              "    <div class=\"colab-df-buttons\">\n",
              "\n",
              "  <div class=\"colab-df-container\">\n",
              "    <button class=\"colab-df-convert\" onclick=\"convertToInteractive('df-157e981a-0474-4342-a7d6-924e420f7d40')\"\n",
              "            title=\"Convert this dataframe to an interactive table.\"\n",
              "            style=\"display:none;\">\n",
              "\n",
              "  <svg xmlns=\"http://www.w3.org/2000/svg\" height=\"24px\" viewBox=\"0 -960 960 960\">\n",
              "    <path d=\"M120-120v-720h720v720H120Zm60-500h600v-160H180v160Zm220 220h160v-160H400v160Zm0 220h160v-160H400v160ZM180-400h160v-160H180v160Zm440 0h160v-160H620v160ZM180-180h160v-160H180v160Zm440 0h160v-160H620v160Z\"/>\n",
              "  </svg>\n",
              "    </button>\n",
              "\n",
              "  <style>\n",
              "    .colab-df-container {\n",
              "      display:flex;\n",
              "      gap: 12px;\n",
              "    }\n",
              "\n",
              "    .colab-df-convert {\n",
              "      background-color: #E8F0FE;\n",
              "      border: none;\n",
              "      border-radius: 50%;\n",
              "      cursor: pointer;\n",
              "      display: none;\n",
              "      fill: #1967D2;\n",
              "      height: 32px;\n",
              "      padding: 0 0 0 0;\n",
              "      width: 32px;\n",
              "    }\n",
              "\n",
              "    .colab-df-convert:hover {\n",
              "      background-color: #E2EBFA;\n",
              "      box-shadow: 0px 1px 2px rgba(60, 64, 67, 0.3), 0px 1px 3px 1px rgba(60, 64, 67, 0.15);\n",
              "      fill: #174EA6;\n",
              "    }\n",
              "\n",
              "    .colab-df-buttons div {\n",
              "      margin-bottom: 4px;\n",
              "    }\n",
              "\n",
              "    [theme=dark] .colab-df-convert {\n",
              "      background-color: #3B4455;\n",
              "      fill: #D2E3FC;\n",
              "    }\n",
              "\n",
              "    [theme=dark] .colab-df-convert:hover {\n",
              "      background-color: #434B5C;\n",
              "      box-shadow: 0px 1px 3px 1px rgba(0, 0, 0, 0.15);\n",
              "      filter: drop-shadow(0px 1px 2px rgba(0, 0, 0, 0.3));\n",
              "      fill: #FFFFFF;\n",
              "    }\n",
              "  </style>\n",
              "\n",
              "    <script>\n",
              "      const buttonEl =\n",
              "        document.querySelector('#df-157e981a-0474-4342-a7d6-924e420f7d40 button.colab-df-convert');\n",
              "      buttonEl.style.display =\n",
              "        google.colab.kernel.accessAllowed ? 'block' : 'none';\n",
              "\n",
              "      async function convertToInteractive(key) {\n",
              "        const element = document.querySelector('#df-157e981a-0474-4342-a7d6-924e420f7d40');\n",
              "        const dataTable =\n",
              "          await google.colab.kernel.invokeFunction('convertToInteractive',\n",
              "                                                    [key], {});\n",
              "        if (!dataTable) return;\n",
              "\n",
              "        const docLinkHtml = 'Like what you see? Visit the ' +\n",
              "          '<a target=\"_blank\" href=https://colab.research.google.com/notebooks/data_table.ipynb>data table notebook</a>'\n",
              "          + ' to learn more about interactive tables.';\n",
              "        element.innerHTML = '';\n",
              "        dataTable['output_type'] = 'display_data';\n",
              "        await google.colab.output.renderOutput(dataTable, element);\n",
              "        const docLink = document.createElement('div');\n",
              "        docLink.innerHTML = docLinkHtml;\n",
              "        element.appendChild(docLink);\n",
              "      }\n",
              "    </script>\n",
              "  </div>\n",
              "\n",
              "\n",
              "    <div id=\"df-7f86db76-5143-4ab3-b1e5-ee311cda250f\">\n",
              "      <button class=\"colab-df-quickchart\" onclick=\"quickchart('df-7f86db76-5143-4ab3-b1e5-ee311cda250f')\"\n",
              "                title=\"Suggest charts\"\n",
              "                style=\"display:none;\">\n",
              "\n",
              "<svg xmlns=\"http://www.w3.org/2000/svg\" height=\"24px\"viewBox=\"0 0 24 24\"\n",
              "     width=\"24px\">\n",
              "    <g>\n",
              "        <path d=\"M19 3H5c-1.1 0-2 .9-2 2v14c0 1.1.9 2 2 2h14c1.1 0 2-.9 2-2V5c0-1.1-.9-2-2-2zM9 17H7v-7h2v7zm4 0h-2V7h2v10zm4 0h-2v-4h2v4z\"/>\n",
              "    </g>\n",
              "</svg>\n",
              "      </button>\n",
              "\n",
              "<style>\n",
              "  .colab-df-quickchart {\n",
              "      --bg-color: #E8F0FE;\n",
              "      --fill-color: #1967D2;\n",
              "      --hover-bg-color: #E2EBFA;\n",
              "      --hover-fill-color: #174EA6;\n",
              "      --disabled-fill-color: #AAA;\n",
              "      --disabled-bg-color: #DDD;\n",
              "  }\n",
              "\n",
              "  [theme=dark] .colab-df-quickchart {\n",
              "      --bg-color: #3B4455;\n",
              "      --fill-color: #D2E3FC;\n",
              "      --hover-bg-color: #434B5C;\n",
              "      --hover-fill-color: #FFFFFF;\n",
              "      --disabled-bg-color: #3B4455;\n",
              "      --disabled-fill-color: #666;\n",
              "  }\n",
              "\n",
              "  .colab-df-quickchart {\n",
              "    background-color: var(--bg-color);\n",
              "    border: none;\n",
              "    border-radius: 50%;\n",
              "    cursor: pointer;\n",
              "    display: none;\n",
              "    fill: var(--fill-color);\n",
              "    height: 32px;\n",
              "    padding: 0;\n",
              "    width: 32px;\n",
              "  }\n",
              "\n",
              "  .colab-df-quickchart:hover {\n",
              "    background-color: var(--hover-bg-color);\n",
              "    box-shadow: 0 1px 2px rgba(60, 64, 67, 0.3), 0 1px 3px 1px rgba(60, 64, 67, 0.15);\n",
              "    fill: var(--button-hover-fill-color);\n",
              "  }\n",
              "\n",
              "  .colab-df-quickchart-complete:disabled,\n",
              "  .colab-df-quickchart-complete:disabled:hover {\n",
              "    background-color: var(--disabled-bg-color);\n",
              "    fill: var(--disabled-fill-color);\n",
              "    box-shadow: none;\n",
              "  }\n",
              "\n",
              "  .colab-df-spinner {\n",
              "    border: 2px solid var(--fill-color);\n",
              "    border-color: transparent;\n",
              "    border-bottom-color: var(--fill-color);\n",
              "    animation:\n",
              "      spin 1s steps(1) infinite;\n",
              "  }\n",
              "\n",
              "  @keyframes spin {\n",
              "    0% {\n",
              "      border-color: transparent;\n",
              "      border-bottom-color: var(--fill-color);\n",
              "      border-left-color: var(--fill-color);\n",
              "    }\n",
              "    20% {\n",
              "      border-color: transparent;\n",
              "      border-left-color: var(--fill-color);\n",
              "      border-top-color: var(--fill-color);\n",
              "    }\n",
              "    30% {\n",
              "      border-color: transparent;\n",
              "      border-left-color: var(--fill-color);\n",
              "      border-top-color: var(--fill-color);\n",
              "      border-right-color: var(--fill-color);\n",
              "    }\n",
              "    40% {\n",
              "      border-color: transparent;\n",
              "      border-right-color: var(--fill-color);\n",
              "      border-top-color: var(--fill-color);\n",
              "    }\n",
              "    60% {\n",
              "      border-color: transparent;\n",
              "      border-right-color: var(--fill-color);\n",
              "    }\n",
              "    80% {\n",
              "      border-color: transparent;\n",
              "      border-right-color: var(--fill-color);\n",
              "      border-bottom-color: var(--fill-color);\n",
              "    }\n",
              "    90% {\n",
              "      border-color: transparent;\n",
              "      border-bottom-color: var(--fill-color);\n",
              "    }\n",
              "  }\n",
              "</style>\n",
              "\n",
              "      <script>\n",
              "        async function quickchart(key) {\n",
              "          const quickchartButtonEl =\n",
              "            document.querySelector('#' + key + ' button');\n",
              "          quickchartButtonEl.disabled = true;  // To prevent multiple clicks.\n",
              "          quickchartButtonEl.classList.add('colab-df-spinner');\n",
              "          try {\n",
              "            const charts = await google.colab.kernel.invokeFunction(\n",
              "                'suggestCharts', [key], {});\n",
              "          } catch (error) {\n",
              "            console.error('Error during call to suggestCharts:', error);\n",
              "          }\n",
              "          quickchartButtonEl.classList.remove('colab-df-spinner');\n",
              "          quickchartButtonEl.classList.add('colab-df-quickchart-complete');\n",
              "        }\n",
              "        (() => {\n",
              "          let quickchartButtonEl =\n",
              "            document.querySelector('#df-7f86db76-5143-4ab3-b1e5-ee311cda250f button');\n",
              "          quickchartButtonEl.style.display =\n",
              "            google.colab.kernel.accessAllowed ? 'block' : 'none';\n",
              "        })();\n",
              "      </script>\n",
              "    </div>\n",
              "\n",
              "    </div>\n",
              "  </div>\n"
            ],
            "application/vnd.google.colaboratory.intrinsic+json": {
              "type": "dataframe",
              "variable_name": "df",
              "summary": "{\n  \"name\": \"df\",\n  \"rows\": 49989,\n  \"fields\": [\n    {\n      \"column\": \"trips_in_first_30_days\",\n      \"properties\": {\n        \"dtype\": \"number\",\n        \"std\": 3,\n        \"min\": 0,\n        \"max\": 73,\n        \"num_unique_values\": 58,\n        \"samples\": [\n          4,\n          2,\n          25\n        ],\n        \"semantic_type\": \"\",\n        \"description\": \"\"\n      }\n    },\n    {\n      \"column\": \"signup_date\",\n      \"properties\": {\n        \"dtype\": \"date\",\n        \"min\": \"2014-01-01 00:00:00\",\n        \"max\": \"2014-01-31 00:00:00\",\n        \"num_unique_values\": 31,\n        \"samples\": [\n          \"2014-01-01 00:00:00\",\n          \"2014-01-31 00:00:00\",\n          \"2014-01-20 00:00:00\"\n        ],\n        \"semantic_type\": \"\",\n        \"description\": \"\"\n      }\n    },\n    {\n      \"column\": \"avg_rating_of_driver\",\n      \"properties\": {\n        \"dtype\": \"number\",\n        \"std\": 0.5650218850756658,\n        \"min\": 1.0,\n        \"max\": 5.0,\n        \"num_unique_values\": 38,\n        \"samples\": [\n          1.9,\n          1.6,\n          4.4\n        ],\n        \"semantic_type\": \"\",\n        \"description\": \"\"\n      }\n    },\n    {\n      \"column\": \"avg_surge\",\n      \"properties\": {\n        \"dtype\": \"number\",\n        \"std\": 0.2223578635565335,\n        \"min\": 1.0,\n        \"max\": 8.0,\n        \"num_unique_values\": 115,\n        \"samples\": [\n          1.3900000000000001,\n          1.38,\n          1.45\n        ],\n        \"semantic_type\": \"\",\n        \"description\": \"\"\n      }\n    },\n    {\n      \"column\": \"last_trip_date\",\n      \"properties\": {\n        \"dtype\": \"date\",\n        \"min\": \"2014-01-01 00:00:00\",\n        \"max\": \"2014-07-01 00:00:00\",\n        \"num_unique_values\": 182,\n        \"samples\": [\n          \"2014-06-03 00:00:00\",\n          \"2014-06-18 00:00:00\",\n          \"2014-02-12 00:00:00\"\n        ],\n        \"semantic_type\": \"\",\n        \"description\": \"\"\n      }\n    },\n    {\n      \"column\": \"surge_pct\",\n      \"properties\": {\n        \"dtype\": \"number\",\n        \"std\": 19.96059883227543,\n        \"min\": 0.0,\n        \"max\": 100.0,\n        \"num_unique_values\": 367,\n        \"samples\": [\n          10.8,\n          7.7,\n          18.2\n        ],\n        \"semantic_type\": \"\",\n        \"description\": \"\"\n      }\n    },\n    {\n      \"column\": \"ultimate_black_user\",\n      \"properties\": {\n        \"dtype\": \"number\",\n        \"std\": 0,\n        \"min\": 0,\n        \"max\": 1,\n        \"num_unique_values\": 2,\n        \"samples\": [\n          0,\n          1\n        ],\n        \"semantic_type\": \"\",\n        \"description\": \"\"\n      }\n    },\n    {\n      \"column\": \"weekday_pct\",\n      \"properties\": {\n        \"dtype\": \"number\",\n        \"std\": 37.07789490180769,\n        \"min\": 0.0,\n        \"max\": 100.0,\n        \"num_unique_values\": 666,\n        \"samples\": [\n          94.5,\n          86.1\n        ],\n        \"semantic_type\": \"\",\n        \"description\": \"\"\n      }\n    },\n    {\n      \"column\": \"avg_dist\",\n      \"properties\": {\n        \"dtype\": \"number\",\n        \"std\": 5.638153147799933,\n        \"min\": 0.0,\n        \"max\": 79.69,\n        \"num_unique_values\": 2906,\n        \"samples\": [\n          5.44,\n          14.62\n        ],\n        \"semantic_type\": \"\",\n        \"description\": \"\"\n      }\n    },\n    {\n      \"column\": \"avg_rating_by_driver\",\n      \"properties\": {\n        \"dtype\": \"number\",\n        \"std\": 0.4457921927366272,\n        \"min\": 1.0,\n        \"max\": 5.0,\n        \"num_unique_values\": 28,\n        \"samples\": [\n          4.4,\n          2.8\n        ],\n        \"semantic_type\": \"\",\n        \"description\": \"\"\n      }\n    },\n    {\n      \"column\": \"active_user\",\n      \"properties\": {\n        \"dtype\": \"number\",\n        \"std\": 0,\n        \"min\": 0,\n        \"max\": 1,\n        \"num_unique_values\": 2,\n        \"samples\": [\n          0,\n          1\n        ],\n        \"semantic_type\": \"\",\n        \"description\": \"\"\n      }\n    },\n    {\n      \"column\": \"Astapor\",\n      \"properties\": {\n        \"dtype\": \"number\",\n        \"std\": 0,\n        \"min\": 0,\n        \"max\": 1,\n        \"num_unique_values\": 2,\n        \"samples\": [\n          1,\n          0\n        ],\n        \"semantic_type\": \"\",\n        \"description\": \"\"\n      }\n    },\n    {\n      \"column\": \"King's Landing\",\n      \"properties\": {\n        \"dtype\": \"number\",\n        \"std\": 0,\n        \"min\": 0,\n        \"max\": 1,\n        \"num_unique_values\": 2,\n        \"samples\": [\n          0,\n          1\n        ],\n        \"semantic_type\": \"\",\n        \"description\": \"\"\n      }\n    },\n    {\n      \"column\": \"Winterfell\",\n      \"properties\": {\n        \"dtype\": \"number\",\n        \"std\": 0,\n        \"min\": 0,\n        \"max\": 1,\n        \"num_unique_values\": 2,\n        \"samples\": [\n          1,\n          0\n        ],\n        \"semantic_type\": \"\",\n        \"description\": \"\"\n      }\n    },\n    {\n      \"column\": \"Android\",\n      \"properties\": {\n        \"dtype\": \"number\",\n        \"std\": 0,\n        \"min\": 0,\n        \"max\": 1,\n        \"num_unique_values\": 2,\n        \"samples\": [\n          1,\n          0\n        ],\n        \"semantic_type\": \"\",\n        \"description\": \"\"\n      }\n    },\n    {\n      \"column\": \"iPhone\",\n      \"properties\": {\n        \"dtype\": \"number\",\n        \"std\": 0,\n        \"min\": 0,\n        \"max\": 1,\n        \"num_unique_values\": 2,\n        \"samples\": [\n          0,\n          1\n        ],\n        \"semantic_type\": \"\",\n        \"description\": \"\"\n      }\n    }\n  ]\n}"
            }
          },
          "metadata": {},
          "execution_count": 34
        }
      ]
    },
    {
      "cell_type": "markdown",
      "source": [
        "Now all categories are numeric except for our date columns. We can drop these as we are just looking at January signups so signup date should have minimal effect. The last trip date we already have as binary for active users (last 30 days)."
      ],
      "metadata": {
        "id": "dY-VoQ91DLmP"
      }
    },
    {
      "cell_type": "code",
      "source": [
        "# drop signup_date & last_trip_date\n",
        "df = df.drop(['signup_date', 'last_trip_date'], axis=1)"
      ],
      "metadata": {
        "id": "GkriaPYTD1-0"
      },
      "execution_count": 35,
      "outputs": []
    },
    {
      "cell_type": "markdown",
      "source": [
        "### Split to train/test"
      ],
      "metadata": {
        "id": "BCwg2v9D3ZGp"
      }
    },
    {
      "cell_type": "markdown",
      "source": [
        "We'll split into our training/test sets before scaling the numeric columns to prevent data leakage"
      ],
      "metadata": {
        "id": "NBPIX3lcLsP8"
      }
    },
    {
      "cell_type": "code",
      "source": [
        "# Import train_test_split\n",
        "from sklearn.model_selection import train_test_split\n",
        "\n",
        "# Split X & y variables\n",
        "X = df.drop('active_user', axis=1)\n",
        "y = df['active_user']\n",
        "\n",
        "# Split train/test\n",
        "X_train, X_test, y_train, y_test = train_test_split(X, y, test_size=0.2, random_state=42)"
      ],
      "metadata": {
        "id": "khBtAV7sL3l2"
      },
      "execution_count": 36,
      "outputs": []
    },
    {
      "cell_type": "markdown",
      "source": [
        "# Scaling"
      ],
      "metadata": {
        "id": "sLod_ds3H2KL"
      }
    },
    {
      "cell_type": "markdown",
      "source": [
        "Now we'll scale the numeric variables. Since most categories are pretty controlled already, we'll scale trips in the first 30 days and average distance as they seemed to have the most variability in results"
      ],
      "metadata": {
        "id": "HzL2ucQ0H5mv"
      }
    },
    {
      "cell_type": "markdown",
      "source": [
        "Given the extreme outliers in these columns, we'll use RobustScaler. This will prevent our data from being skewed toward the extreme outliers."
      ],
      "metadata": {
        "id": "ft6OCgSEJvoS"
      }
    },
    {
      "cell_type": "code",
      "source": [
        "import sklearn\n",
        "from sklearn.preprocessing import RobustScaler\n",
        "\n",
        "# Instantiate RobustScaler\n",
        "scaler = RobustScaler()"
      ],
      "metadata": {
        "id": "OTLrt-guILjZ"
      },
      "execution_count": 37,
      "outputs": []
    },
    {
      "cell_type": "markdown",
      "source": [
        "First we'll scale the training data, next we'll train the test set"
      ],
      "metadata": {
        "id": "eQ8W8VirMi-6"
      }
    },
    {
      "cell_type": "code",
      "source": [
        "# Scale training data\n",
        "X_train[['trips_in_first_30_days', 'avg_dist']] = scaler.fit_transform(X_train[['trips_in_first_30_days', 'avg_dist']])"
      ],
      "metadata": {
        "id": "M4YgHodIK2NP"
      },
      "execution_count": 38,
      "outputs": []
    },
    {
      "cell_type": "code",
      "source": [
        "# Scale test data\n",
        "X_test[['trips_in_first_30_days', 'avg_dist']] = scaler.transform(X_test[['trips_in_first_30_days', 'avg_dist']])"
      ],
      "metadata": {
        "id": "kdfcJu2ZM12P"
      },
      "execution_count": 39,
      "outputs": []
    },
    {
      "cell_type": "markdown",
      "source": [
        "# Modeling"
      ],
      "metadata": {
        "id": "_YE7D-lg3fDG"
      }
    },
    {
      "cell_type": "markdown",
      "source": [
        "For this classification problem, we'll use Logistic regression and Random forest models.\n",
        "\n",
        "Logistic regression will be good to understand the relationships between variables and likelihood of a user being retained\n",
        "\n",
        "Random Forest will provie feature importance to see which features are significant predictors of retention and evaluate the likelihood of the user being retained."
      ],
      "metadata": {
        "id": "vNhZl4XvOPyo"
      }
    },
    {
      "cell_type": "markdown",
      "source": [
        "### Logistic Regression"
      ],
      "metadata": {
        "id": "srQPJUFMOF4J"
      }
    },
    {
      "cell_type": "code",
      "source": [
        "# Import and instantiate Logistic regression\n",
        "from sklearn.linear_model import LogisticRegression\n",
        "lr = LogisticRegression()\n",
        "\n",
        "# Fit & predict on train/test data\n",
        "lr.fit(X_train, y_train)\n",
        "y_pred = lr.predict(X_test)"
      ],
      "metadata": {
        "colab": {
          "base_uri": "https://localhost:8080/"
        },
        "id": "Ezk6M_ONPC5D",
        "outputId": "24246219-088f-47d2-f6b0-40bd3754517b"
      },
      "execution_count": 40,
      "outputs": [
        {
          "output_type": "stream",
          "name": "stderr",
          "text": [
            "/usr/local/lib/python3.12/dist-packages/sklearn/linear_model/_logistic.py:465: ConvergenceWarning: lbfgs failed to converge (status=1):\n",
            "STOP: TOTAL NO. OF ITERATIONS REACHED LIMIT.\n",
            "\n",
            "Increase the number of iterations (max_iter) or scale the data as shown in:\n",
            "    https://scikit-learn.org/stable/modules/preprocessing.html\n",
            "Please also refer to the documentation for alternative solver options:\n",
            "    https://scikit-learn.org/stable/modules/linear_model.html#logistic-regression\n",
            "  n_iter_i = _check_optimize_result(\n"
          ]
        }
      ]
    },
    {
      "cell_type": "markdown",
      "source": [
        "Now we'll analyze how the model performed. I'll create functions for evaluating accuracy scores"
      ],
      "metadata": {
        "id": "jj4OiI1SUy0W"
      }
    },
    {
      "cell_type": "code",
      "source": [
        "# import accuracy scores\n",
        "from sklearn.metrics import accuracy_score, classification_report, confusion_matrix\n",
        "# Define function\n",
        "def accuracy_scores(model, X_train, X_test, y_train, y_test, y_pred):\n",
        "  \"\"\"Function to print accuracy scores\"\"\"\n",
        "  print('Train Accuracy Score: ', accuracy_score(y_train, model.predict(X_train)))\n",
        "  print('Test Accuracy Score: ', accuracy_score(y_test, y_pred))\n",
        "  print('\\n')\n",
        "  print('Classification Report')\n",
        "  print(classification_report(y_test, y_pred))\n",
        "  print('\\n')\n",
        "  print('Confusion Matrix')\n",
        "  print(confusion_matrix(y_test, y_pred))"
      ],
      "metadata": {
        "id": "jynnB3c8PyBz"
      },
      "execution_count": 41,
      "outputs": []
    },
    {
      "cell_type": "code",
      "source": [
        "# Analyze accuracy for lr model\n",
        "accuracy_scores(lr, X_train, X_test, y_train, y_test, y_pred)"
      ],
      "metadata": {
        "colab": {
          "base_uri": "https://localhost:8080/"
        },
        "id": "iaEIuWqKWGAq",
        "outputId": "29f94463-f8d2-4838-8e44-186ac95a265b"
      },
      "execution_count": 42,
      "outputs": [
        {
          "output_type": "stream",
          "name": "stdout",
          "text": [
            "Train Accuracy Score:  0.7180615638518667\n",
            "Test Accuracy Score:  0.7133426685337068\n",
            "\n",
            "\n",
            "Classification Report\n",
            "              precision    recall  f1-score   support\n",
            "\n",
            "           0       0.73      0.85      0.79      6198\n",
            "           1       0.67      0.49      0.57      3800\n",
            "\n",
            "    accuracy                           0.71      9998\n",
            "   macro avg       0.70      0.67      0.68      9998\n",
            "weighted avg       0.71      0.71      0.70      9998\n",
            "\n",
            "\n",
            "\n",
            "Confusion Matrix\n",
            "[[5253  945]\n",
            " [1921 1879]]\n"
          ]
        }
      ]
    },
    {
      "cell_type": "markdown",
      "source": [
        "To start, the model isn't overfitting to either the train or test set since the accuracy scores are so close.\n",
        "\n",
        "In our classification report, we do see some things for concern. We are only correctly identifying 49% of actual active users. Meaning with active users there is basically a 50/50 shot we are correct. When predicting whether or not a user will be active in their 6th month, we should see better accuracy."
      ],
      "metadata": {
        "id": "R5BUP8BFYK4J"
      }
    },
    {
      "cell_type": "markdown",
      "source": [
        "### Parameter Tuning"
      ],
      "metadata": {
        "id": "04sK8KScZZbE"
      }
    },
    {
      "cell_type": "markdown",
      "source": [
        "Since the recall score is so low, we will test out the best parameters."
      ],
      "metadata": {
        "id": "EgFNnJEjZdC5"
      }
    },
    {
      "cell_type": "code",
      "source": [
        "from sklearn.model_selection import GridSearchCV\n",
        "\n",
        "# Create parameter grid\n",
        "param_grid = {'C': [0.01, 0.1, 1, 10],\n",
        "              'penalty': ['l1', 'l2'],\n",
        "              'max_iter': [1000, 2000],\n",
        "              'solver': ['saga']}\n",
        "\n",
        "# Test params\n",
        "grid_search = GridSearchCV(lr, param_grid, cv=3)\n",
        "lr_grid = grid_search.fit(X_train, y_train)\n",
        "\n",
        "# Results\n",
        "print('Best hyperparameters are: '+str(lr_grid.best_params_))\n",
        "print('Best score is: '+str(lr_grid.best_score_))"
      ],
      "metadata": {
        "colab": {
          "base_uri": "https://localhost:8080/"
        },
        "id": "1SYEIHjSZ3zW",
        "outputId": "21654e4b-781d-496b-ae77-1c195316671b"
      },
      "execution_count": 43,
      "outputs": [
        {
          "output_type": "stream",
          "name": "stdout",
          "text": [
            "Best hyperparameters are: {'C': 0.01, 'max_iter': 2000, 'penalty': 'l2', 'solver': 'saga'}\n",
            "Best score is: 0.7190117216499384\n"
          ]
        }
      ]
    },
    {
      "cell_type": "markdown",
      "source": [
        "The accuracy score is still pretty low so we may have to over or undersample our data\n",
        "\n",
        "Now we'll run our model with the best hyperparameters to see if it will improve recall/precision."
      ],
      "metadata": {
        "id": "5QWXSp1CiJk5"
      }
    },
    {
      "cell_type": "code",
      "source": [
        "# Instantiate LR model with parameters\n",
        "lr2 = LogisticRegression(C=0.01, max_iter=1000, penalty='l2', solver='saga')\n",
        "lr2.fit(X_train, y_train)\n",
        "y_pred2 = lr2.predict(X_test)"
      ],
      "metadata": {
        "id": "G5wF5-Ulixsh"
      },
      "execution_count": 44,
      "outputs": []
    },
    {
      "cell_type": "code",
      "source": [
        "# Evaluate accuracy scores\n",
        "accuracy_scores(lr2, X_train, X_test, y_train, y_test, y_pred2)"
      ],
      "metadata": {
        "colab": {
          "base_uri": "https://localhost:8080/"
        },
        "id": "O-ePtNPajBhu",
        "outputId": "e4744301-8a78-4e88-a1b3-2ed44ba5ba11"
      },
      "execution_count": 45,
      "outputs": [
        {
          "output_type": "stream",
          "name": "stdout",
          "text": [
            "Train Accuracy Score:  0.7189617663974395\n",
            "Test Accuracy Score:  0.71374274854971\n",
            "\n",
            "\n",
            "Classification Report\n",
            "              precision    recall  f1-score   support\n",
            "\n",
            "           0       0.73      0.85      0.79      6198\n",
            "           1       0.67      0.48      0.56      3800\n",
            "\n",
            "    accuracy                           0.71      9998\n",
            "   macro avg       0.70      0.67      0.68      9998\n",
            "weighted avg       0.71      0.71      0.70      9998\n",
            "\n",
            "\n",
            "\n",
            "Confusion Matrix\n",
            "[[5293  905]\n",
            " [1957 1843]]\n"
          ]
        }
      ]
    },
    {
      "cell_type": "markdown",
      "source": [
        "The recall score got even worse and most other scores stayed around the same. We'll try to add a parameter to balance our classes and see if that will help."
      ],
      "metadata": {
        "id": "OJGycE6qjdN_"
      }
    },
    {
      "cell_type": "code",
      "source": [
        "# Instantiate model with class balance\n",
        "lr3 = LogisticRegression(C=0.01, max_iter=1000, penalty='l2', solver='saga', class_weight='balanced')\n",
        "lr3.fit(X_train, y_train)\n",
        "y_pred3 = lr3.predict(X_test)"
      ],
      "metadata": {
        "id": "5YgRnpTOlWxh"
      },
      "execution_count": 46,
      "outputs": []
    },
    {
      "cell_type": "code",
      "source": [
        "# Evaluate model\n",
        "accuracy_scores(lr3, X_train, X_test, y_train, y_test, y_pred3)"
      ],
      "metadata": {
        "colab": {
          "base_uri": "https://localhost:8080/"
        },
        "id": "Pb1oCI2SlfWi",
        "outputId": "927d1588-45e4-489a-856d-476478abdb2b"
      },
      "execution_count": 47,
      "outputs": [
        {
          "output_type": "stream",
          "name": "stdout",
          "text": [
            "Train Accuracy Score:  0.7035332949913731\n",
            "Test Accuracy Score:  0.6965393078615724\n",
            "\n",
            "\n",
            "Classification Report\n",
            "              precision    recall  f1-score   support\n",
            "\n",
            "           0       0.78      0.72      0.75      6198\n",
            "           1       0.59      0.66      0.62      3800\n",
            "\n",
            "    accuracy                           0.70      9998\n",
            "   macro avg       0.68      0.69      0.68      9998\n",
            "weighted avg       0.70      0.70      0.70      9998\n",
            "\n",
            "\n",
            "\n",
            "Confusion Matrix\n",
            "[[4454 1744]\n",
            " [1290 2510]]\n"
          ]
        }
      ]
    },
    {
      "cell_type": "markdown",
      "source": [
        "This improved the recall for active users but also led to an increase in false positives (lower precision). We'll try another model"
      ],
      "metadata": {
        "id": "ZrDw3f2tmQbJ"
      }
    },
    {
      "cell_type": "markdown",
      "source": [
        "### Random Forest"
      ],
      "metadata": {
        "id": "dkn4Xf-BOJmi"
      }
    },
    {
      "cell_type": "markdown",
      "source": [
        "Now we'll test out a Random Forest model to see if we can improve our accuracy and recall."
      ],
      "metadata": {
        "id": "NE_L92ZmhDgM"
      }
    },
    {
      "cell_type": "code",
      "source": [
        "# Import & instantiate random forest\n",
        "from sklearn.ensemble import RandomForestClassifier\n",
        "\n",
        "rf = RandomForestClassifier()\n",
        "rf.fit(X_train, y_train)\n",
        "y_pred4 = rf.predict(X_test)"
      ],
      "metadata": {
        "id": "u6SFwMA8hei6"
      },
      "execution_count": 48,
      "outputs": []
    },
    {
      "cell_type": "code",
      "source": [
        "# Evaluate model\n",
        "accuracy_scores(rf, X_train, X_test, y_train, y_test, y_pred4)"
      ],
      "metadata": {
        "colab": {
          "base_uri": "https://localhost:8080/"
        },
        "id": "YwV6dHs7m5QF",
        "outputId": "93058d49-7197-496a-8963-b5286ff13456"
      },
      "execution_count": 49,
      "outputs": [
        {
          "output_type": "stream",
          "name": "stdout",
          "text": [
            "Train Accuracy Score:  0.9967742742116976\n",
            "Test Accuracy Score:  0.7584516903380676\n",
            "\n",
            "\n",
            "Classification Report\n",
            "              precision    recall  f1-score   support\n",
            "\n",
            "           0       0.80      0.82      0.81      6198\n",
            "           1       0.69      0.66      0.67      3800\n",
            "\n",
            "    accuracy                           0.76      9998\n",
            "   macro avg       0.74      0.74      0.74      9998\n",
            "weighted avg       0.76      0.76      0.76      9998\n",
            "\n",
            "\n",
            "\n",
            "Confusion Matrix\n",
            "[[5079 1119]\n",
            " [1296 2504]]\n"
          ]
        }
      ]
    },
    {
      "cell_type": "markdown",
      "source": [
        "The accuracy on our training data is nearly perfect, showing strong evidence of overfitting. Our precision and recall for active users improved but is still far lower than desired.\n",
        "\n",
        "We'll us GridSearchCV to try to tune the hyperparameters again."
      ],
      "metadata": {
        "id": "HFy50UaCnDaE"
      }
    },
    {
      "cell_type": "code",
      "source": [
        "# Test hyperparameters\n",
        "param_grid = {'n_estimators': [100, 200, 300],\n",
        "              'max_depth': [5, 10, 15],\n",
        "              'min_samples_leaf': [5, 10, 15],\n",
        "              'max_features': ['auto', 'sqrt', 'log2']}\n",
        "\n",
        "# Test params\n",
        "grid_search = GridSearchCV(rf, param_grid, cv=3)\n",
        "rf_grid = grid_search.fit(X_train, y_train)\n",
        "\n",
        "# Results\n",
        "print('Best hyperparameters are: '+str(rf_grid.best_params_))\n",
        "print('Best score is: '+str(rf_grid.best_score_))"
      ],
      "metadata": {
        "colab": {
          "base_uri": "https://localhost:8080/"
        },
        "id": "vMMiVqT5m7nD",
        "outputId": "beb8d866-ab7e-4aea-813e-b997aeca565a"
      },
      "execution_count": 50,
      "outputs": [
        {
          "output_type": "stream",
          "name": "stderr",
          "text": [
            "/usr/local/lib/python3.12/dist-packages/sklearn/model_selection/_validation.py:528: FitFailedWarning: \n",
            "81 fits failed out of a total of 243.\n",
            "The score on these train-test partitions for these parameters will be set to nan.\n",
            "If these failures are not expected, you can try to debug them by setting error_score='raise'.\n",
            "\n",
            "Below are more details about the failures:\n",
            "--------------------------------------------------------------------------------\n",
            "81 fits failed with the following error:\n",
            "Traceback (most recent call last):\n",
            "  File \"/usr/local/lib/python3.12/dist-packages/sklearn/model_selection/_validation.py\", line 866, in _fit_and_score\n",
            "    estimator.fit(X_train, y_train, **fit_params)\n",
            "  File \"/usr/local/lib/python3.12/dist-packages/sklearn/base.py\", line 1382, in wrapper\n",
            "    estimator._validate_params()\n",
            "  File \"/usr/local/lib/python3.12/dist-packages/sklearn/base.py\", line 436, in _validate_params\n",
            "    validate_parameter_constraints(\n",
            "  File \"/usr/local/lib/python3.12/dist-packages/sklearn/utils/_param_validation.py\", line 98, in validate_parameter_constraints\n",
            "    raise InvalidParameterError(\n",
            "sklearn.utils._param_validation.InvalidParameterError: The 'max_features' parameter of RandomForestClassifier must be an int in the range [1, inf), a float in the range (0.0, 1.0], a str among {'sqrt', 'log2'} or None. Got 'auto' instead.\n",
            "\n",
            "  warnings.warn(some_fits_failed_message, FitFailedWarning)\n",
            "/usr/local/lib/python3.12/dist-packages/sklearn/model_selection/_search.py:1108: UserWarning: One or more of the test scores are non-finite: [       nan        nan        nan        nan        nan        nan\n",
            "        nan        nan        nan 0.77484925 0.77339893 0.77294882\n",
            " 0.77052326 0.77294878 0.77354896 0.77294884 0.77327388 0.77247372\n",
            " 0.77247374 0.7727988  0.77354898 0.77287388 0.77374897 0.77394905\n",
            " 0.77297386 0.77247372 0.773674          nan        nan        nan\n",
            "        nan        nan        nan        nan        nan        nan\n",
            " 0.78202582 0.7837262  0.78332612 0.78250094 0.78250091 0.7832511\n",
            " 0.7832761  0.78262599 0.78337613 0.78365116 0.7832261  0.7833011\n",
            " 0.78240089 0.78237589 0.78337613 0.78252591 0.78307606 0.78342613\n",
            "        nan        nan        nan        nan        nan        nan\n",
            "        nan        nan        nan 0.78290102 0.78367618 0.78460139\n",
            " 0.78492647 0.78432635 0.78480144 0.7837012  0.78430134 0.78445136\n",
            " 0.78352615 0.78425132 0.78420133 0.78360121 0.78437634 0.78455137\n",
            " 0.78482644 0.78485146 0.78417631]\n",
            "  warnings.warn(\n"
          ]
        },
        {
          "output_type": "stream",
          "name": "stdout",
          "text": [
            "Best hyperparameters are: {'max_depth': 15, 'max_features': 'sqrt', 'min_samples_leaf': 10, 'n_estimators': 100}\n",
            "Best score is: 0.7849264675331686\n"
          ]
        }
      ]
    },
    {
      "cell_type": "markdown",
      "source": [
        "Now we'll evaluate the model with the optimal parameters"
      ],
      "metadata": {
        "id": "A3q9OEo0s9Ok"
      }
    },
    {
      "cell_type": "code",
      "source": [
        "# Instantiate & fit on best hyperparams\n",
        "rf2 = RandomForestClassifier(max_depth=15, max_features='sqrt', min_samples_leaf=15, n_estimators=200)\n",
        "rf2.fit(X_train, y_train)\n",
        "y_pred5 = rf2.predict(X_test)"
      ],
      "metadata": {
        "id": "UeeFQbQKoqYA"
      },
      "execution_count": 51,
      "outputs": []
    },
    {
      "cell_type": "code",
      "source": [
        "# Evaluate model\n",
        "accuracy_scores(rf2, X_train, X_test, y_train, y_test, y_pred5)"
      ],
      "metadata": {
        "colab": {
          "base_uri": "https://localhost:8080/"
        },
        "id": "8Ub0S2QWtLGu",
        "outputId": "3b4ed8a5-d66b-4f0c-b8cf-da8dedffb3e3"
      },
      "execution_count": 52,
      "outputs": [
        {
          "output_type": "stream",
          "name": "stdout",
          "text": [
            "Train Accuracy Score:  0.808106824035408\n",
            "Test Accuracy Score:  0.7863572714542909\n",
            "\n",
            "\n",
            "Classification Report\n",
            "              precision    recall  f1-score   support\n",
            "\n",
            "           0       0.80      0.87      0.83      6198\n",
            "           1       0.76      0.65      0.70      3800\n",
            "\n",
            "    accuracy                           0.79      9998\n",
            "   macro avg       0.78      0.76      0.77      9998\n",
            "weighted avg       0.78      0.79      0.78      9998\n",
            "\n",
            "\n",
            "\n",
            "Confusion Matrix\n",
            "[[5401  797]\n",
            " [1339 2461]]\n"
          ]
        }
      ]
    },
    {
      "cell_type": "markdown",
      "source": [
        "This is much improved from the last one in terms of overfitting. The train/test scores are both around 80%. Precision on our active users increased but recall decreased.\n",
        "\n",
        "We'll try to balance the classes to see if this will improve the scores"
      ],
      "metadata": {
        "id": "ulImH7SGtUwZ"
      }
    },
    {
      "cell_type": "code",
      "source": [
        "# Instantiate with params & class balance\n",
        "rf3 = RandomForestClassifier(max_depth=15,\n",
        "                             max_features='sqrt',\n",
        "                             min_samples_leaf=15,\n",
        "                             n_estimators=200,\n",
        "                             class_weight='balanced')\n",
        "rf3.fit(X_train, y_train)\n",
        "y_pred6 = rf3.predict(X_test)"
      ],
      "metadata": {
        "id": "2da4l3UytRJE"
      },
      "execution_count": 53,
      "outputs": []
    },
    {
      "cell_type": "code",
      "source": [
        "# Evaluate model\n",
        "accuracy_scores(rf3, X_train, X_test, y_train, y_test, y_pred6)"
      ],
      "metadata": {
        "colab": {
          "base_uri": "https://localhost:8080/"
        },
        "id": "orK7ulWgtuOb",
        "outputId": "692f2542-904a-4471-8bb3-4bd72ce1ddc4"
      },
      "execution_count": 54,
      "outputs": [
        {
          "output_type": "stream",
          "name": "stdout",
          "text": [
            "Train Accuracy Score:  0.8017553949638668\n",
            "Test Accuracy Score:  0.7799559911982397\n",
            "\n",
            "\n",
            "Classification Report\n",
            "              precision    recall  f1-score   support\n",
            "\n",
            "           0       0.84      0.80      0.82      6198\n",
            "           1       0.70      0.75      0.72      3800\n",
            "\n",
            "    accuracy                           0.78      9998\n",
            "   macro avg       0.77      0.77      0.77      9998\n",
            "weighted avg       0.78      0.78      0.78      9998\n",
            "\n",
            "\n",
            "\n",
            "Confusion Matrix\n",
            "[[4960 1238]\n",
            " [ 962 2838]]\n"
          ]
        }
      ]
    },
    {
      "cell_type": "markdown",
      "source": [
        "The recall score improved but it is still only at 75% meaning about 25% of our active users aren't being caught by the model.\n",
        "\n",
        "We may have to try oversampling our data to improve this score."
      ],
      "metadata": {
        "id": "NckhPi6huBWO"
      }
    },
    {
      "cell_type": "markdown",
      "source": [
        "## Oversample data"
      ],
      "metadata": {
        "id": "UkYHAHNDuWNU"
      }
    },
    {
      "cell_type": "code",
      "source": [
        "# Import SMOTE\n",
        "from imblearn.over_sampling import SMOTE\n",
        "#Import Counter\n",
        "from collections import Counter\n",
        "\n",
        "# Instantiate SMOTE\n",
        "smote = SMOTE(random_state=42)\n",
        "\n",
        "# Resample\n",
        "X_res, y_res = smote.fit_resample(X, y)\n",
        "\n",
        "print(f\"Original dataset shape: {Counter(y)}\")\n",
        "print(f\"Resampled dataset shape: {Counter(y_res)}\")"
      ],
      "metadata": {
        "colab": {
          "base_uri": "https://localhost:8080/"
        },
        "id": "ex5F4Fdrtwoq",
        "outputId": "44740e68-5a78-4d49-a417-fb4f5cac658e"
      },
      "execution_count": 55,
      "outputs": [
        {
          "output_type": "stream",
          "name": "stdout",
          "text": [
            "Original dataset shape: Counter({0: 31187, 1: 18802})\n",
            "Resampled dataset shape: Counter({1: 31187, 0: 31187})\n"
          ]
        }
      ]
    },
    {
      "cell_type": "markdown",
      "source": [
        "We'll split this into train/test sets and test on our models"
      ],
      "metadata": {
        "id": "1h2zjJidwAtV"
      }
    },
    {
      "cell_type": "code",
      "source": [
        "# Split to train/test\n",
        "X_train_smote, X_test, y_train_smote, y_test = train_test_split(X_res, y_res, test_size=0.2, random_state=42)"
      ],
      "metadata": {
        "id": "3ozL6MpAwIW2"
      },
      "execution_count": 56,
      "outputs": []
    },
    {
      "cell_type": "markdown",
      "source": [
        "Now that we have oversampled our training set, we can test this on both of the best logistic regression and random forest models"
      ],
      "metadata": {
        "id": "_wj9JUV7uhSe"
      }
    },
    {
      "cell_type": "code",
      "source": [
        "# Fit to lr\n",
        "lr.fit(X_train_smote, y_train_smote)\n",
        "y_pred7 = lr.predict(X_test)"
      ],
      "metadata": {
        "colab": {
          "base_uri": "https://localhost:8080/"
        },
        "id": "FNuUCHNovPOG",
        "outputId": "1f6e4397-2a0d-4a69-f576-616b0fc71f5c"
      },
      "execution_count": 57,
      "outputs": [
        {
          "output_type": "stream",
          "name": "stderr",
          "text": [
            "/usr/local/lib/python3.12/dist-packages/sklearn/linear_model/_logistic.py:465: ConvergenceWarning: lbfgs failed to converge (status=1):\n",
            "STOP: TOTAL NO. OF ITERATIONS REACHED LIMIT.\n",
            "\n",
            "Increase the number of iterations (max_iter) or scale the data as shown in:\n",
            "    https://scikit-learn.org/stable/modules/preprocessing.html\n",
            "Please also refer to the documentation for alternative solver options:\n",
            "    https://scikit-learn.org/stable/modules/linear_model.html#logistic-regression\n",
            "  n_iter_i = _check_optimize_result(\n"
          ]
        }
      ]
    },
    {
      "cell_type": "code",
      "source": [
        "# Evaluate model\n",
        "accuracy_scores(lr, X_train_smote, X_test, y_train_smote, y_test, y_pred7)"
      ],
      "metadata": {
        "colab": {
          "base_uri": "https://localhost:8080/"
        },
        "id": "M2saoL-IvO2S",
        "outputId": "b254a17c-428e-4057-8ed3-84d2ec1fdbf5"
      },
      "execution_count": 58,
      "outputs": [
        {
          "output_type": "stream",
          "name": "stdout",
          "text": [
            "Train Accuracy Score:  0.6987514779855307\n",
            "Test Accuracy Score:  0.7000400801603206\n",
            "\n",
            "\n",
            "Classification Report\n",
            "              precision    recall  f1-score   support\n",
            "\n",
            "           0       0.68      0.74      0.71      6177\n",
            "           1       0.72      0.66      0.69      6298\n",
            "\n",
            "    accuracy                           0.70     12475\n",
            "   macro avg       0.70      0.70      0.70     12475\n",
            "weighted avg       0.70      0.70      0.70     12475\n",
            "\n",
            "\n",
            "\n",
            "Confusion Matrix\n",
            "[[4561 1616]\n",
            " [2126 4172]]\n"
          ]
        }
      ]
    },
    {
      "cell_type": "code",
      "source": [
        "# Fit to lr2\n",
        "lr2.fit(X_train_smote, y_train_smote)\n",
        "y_pred8 = lr2.predict(X_test)"
      ],
      "metadata": {
        "id": "WqYKy0xtvOgF"
      },
      "execution_count": 59,
      "outputs": []
    },
    {
      "cell_type": "code",
      "source": [
        "# Evaluate model\n",
        "accuracy_scores(lr2, X_train_smote, X_test, y_train_smote, y_test, y_pred8)"
      ],
      "metadata": {
        "colab": {
          "base_uri": "https://localhost:8080/"
        },
        "id": "FHTv7Re1vN3G",
        "outputId": "13231a0c-dafd-49b9-88da-5d74dec74691"
      },
      "execution_count": 60,
      "outputs": [
        {
          "output_type": "stream",
          "name": "stdout",
          "text": [
            "Train Accuracy Score:  0.7115773863203672\n",
            "Test Accuracy Score:  0.7094188376753507\n",
            "\n",
            "\n",
            "Classification Report\n",
            "              precision    recall  f1-score   support\n",
            "\n",
            "           0       0.69      0.75      0.72      6177\n",
            "           1       0.73      0.67      0.70      6298\n",
            "\n",
            "    accuracy                           0.71     12475\n",
            "   macro avg       0.71      0.71      0.71     12475\n",
            "weighted avg       0.71      0.71      0.71     12475\n",
            "\n",
            "\n",
            "\n",
            "Confusion Matrix\n",
            "[[4630 1547]\n",
            " [2078 4220]]\n"
          ]
        }
      ]
    },
    {
      "cell_type": "code",
      "source": [
        "# Fit to lr3\n",
        "lr3.fit(X_train_smote, y_train_smote)\n",
        "y_pred7 = lr3.predict(X_test)"
      ],
      "metadata": {
        "id": "78PVU1HQufPP"
      },
      "execution_count": 61,
      "outputs": []
    },
    {
      "cell_type": "code",
      "source": [
        "# Evaluate results\n",
        "accuracy_scores(lr3, X_train_smote, X_test, y_train_smote, y_test, y_pred7)"
      ],
      "metadata": {
        "colab": {
          "base_uri": "https://localhost:8080/"
        },
        "id": "okgttkCXu0AK",
        "outputId": "6925551c-4913-4620-9823-b1fe9d85cfa1"
      },
      "execution_count": 62,
      "outputs": [
        {
          "output_type": "stream",
          "name": "stdout",
          "text": [
            "Train Accuracy Score:  0.711236698130223\n",
            "Test Accuracy Score:  0.7092585170340682\n",
            "\n",
            "\n",
            "Classification Report\n",
            "              precision    recall  f1-score   support\n",
            "\n",
            "           0       0.69      0.75      0.72      6177\n",
            "           1       0.73      0.67      0.70      6298\n",
            "\n",
            "    accuracy                           0.71     12475\n",
            "   macro avg       0.71      0.71      0.71     12475\n",
            "weighted avg       0.71      0.71      0.71     12475\n",
            "\n",
            "\n",
            "\n",
            "Confusion Matrix\n",
            "[[4617 1560]\n",
            " [2067 4231]]\n"
          ]
        }
      ]
    },
    {
      "cell_type": "markdown",
      "source": [
        "None of our logistic regression models performed particularly well with the resampled data. All still had low accuracy scores around 70% and low recall scores at 66-67%.\n",
        "\n",
        "We'll try the random forest models to see if we can get better performance."
      ],
      "metadata": {
        "id": "00Pk-6EAwjZI"
      }
    },
    {
      "cell_type": "code",
      "source": [
        "# Fit to rf\n",
        "rf.fit(X_train_smote, y_train_smote)\n",
        "y_pred8 = rf.predict(X_test)"
      ],
      "metadata": {
        "id": "JPcaCejCw9qY"
      },
      "execution_count": 63,
      "outputs": []
    },
    {
      "cell_type": "code",
      "source": [
        "# Evaluate model\n",
        "accuracy_scores(rf, X_train_smote, X_test, y_train_smote, y_test, y_pred8)"
      ],
      "metadata": {
        "colab": {
          "base_uri": "https://localhost:8080/"
        },
        "id": "eEq4m43gw9iQ",
        "outputId": "35b0002a-c1ed-4e60-b620-ef32c3b7a61b"
      },
      "execution_count": 64,
      "outputs": [
        {
          "output_type": "stream",
          "name": "stdout",
          "text": [
            "Train Accuracy Score:  0.99735465640594\n",
            "Test Accuracy Score:  0.8002404809619238\n",
            "\n",
            "\n",
            "Classification Report\n",
            "              precision    recall  f1-score   support\n",
            "\n",
            "           0       0.80      0.79      0.80      6177\n",
            "           1       0.80      0.81      0.80      6298\n",
            "\n",
            "    accuracy                           0.80     12475\n",
            "   macro avg       0.80      0.80      0.80     12475\n",
            "weighted avg       0.80      0.80      0.80     12475\n",
            "\n",
            "\n",
            "\n",
            "Confusion Matrix\n",
            "[[4891 1286]\n",
            " [1206 5092]]\n"
          ]
        }
      ]
    },
    {
      "cell_type": "code",
      "source": [
        "# Fit to rf2\n",
        "rf2.fit(X_train_smote, y_train_smote)\n",
        "y_pred9 = rf2.predict(X_test)"
      ],
      "metadata": {
        "id": "Pmc9swJ4w83V"
      },
      "execution_count": 65,
      "outputs": []
    },
    {
      "cell_type": "code",
      "source": [
        "# Evaluate model\n",
        "accuracy_scores(rf2, X_train_smote, X_test, y_train_smote, y_test, y_pred9)"
      ],
      "metadata": {
        "colab": {
          "base_uri": "https://localhost:8080/"
        },
        "id": "N2f9epZow8nq",
        "outputId": "62ca003b-6aee-488a-e4d5-4053a9e07303"
      },
      "execution_count": 66,
      "outputs": [
        {
          "output_type": "stream",
          "name": "stdout",
          "text": [
            "Train Accuracy Score:  0.8204172428305176\n",
            "Test Accuracy Score:  0.8048897795591182\n",
            "\n",
            "\n",
            "Classification Report\n",
            "              precision    recall  f1-score   support\n",
            "\n",
            "           0       0.79      0.82      0.81      6177\n",
            "           1       0.82      0.79      0.80      6298\n",
            "\n",
            "    accuracy                           0.80     12475\n",
            "   macro avg       0.81      0.81      0.80     12475\n",
            "weighted avg       0.81      0.80      0.80     12475\n",
            "\n",
            "\n",
            "\n",
            "Confusion Matrix\n",
            "[[5095 1082]\n",
            " [1352 4946]]\n"
          ]
        }
      ]
    },
    {
      "cell_type": "code",
      "source": [
        "# Fit to rf3\n",
        "rf3.fit(X_train_smote, y_train_smote)\n",
        "y_pred10 = rf3.predict(X_test)"
      ],
      "metadata": {
        "id": "rE4X-7q4u3Lk"
      },
      "execution_count": 67,
      "outputs": []
    },
    {
      "cell_type": "code",
      "source": [
        "# Evaluate results\n",
        "accuracy_scores(rf3, X_train_smote, X_test, y_train_smote, y_test, y_pred10)"
      ],
      "metadata": {
        "colab": {
          "base_uri": "https://localhost:8080/"
        },
        "id": "tWjygpOBu2FF",
        "outputId": "2c1e4470-3185-416e-a691-49a69fbb8002"
      },
      "execution_count": 68,
      "outputs": [
        {
          "output_type": "stream",
          "name": "stdout",
          "text": [
            "Train Accuracy Score:  0.8203771618669713\n",
            "Test Accuracy Score:  0.8052104208416834\n",
            "\n",
            "\n",
            "Classification Report\n",
            "              precision    recall  f1-score   support\n",
            "\n",
            "           0       0.79      0.82      0.81      6177\n",
            "           1       0.82      0.79      0.80      6298\n",
            "\n",
            "    accuracy                           0.81     12475\n",
            "   macro avg       0.81      0.81      0.81     12475\n",
            "weighted avg       0.81      0.81      0.81     12475\n",
            "\n",
            "\n",
            "\n",
            "Confusion Matrix\n",
            "[[5094 1083]\n",
            " [1347 4951]]\n"
          ]
        }
      ]
    },
    {
      "cell_type": "markdown",
      "source": [
        "Here we can see much improved results and recall scores closer to 80%. While we could get higher scores in accuracy and precision/recall for active users, it may result in overfitting."
      ],
      "metadata": {
        "id": "5azpHeRAxh2n"
      }
    },
    {
      "cell_type": "markdown",
      "source": [
        "# Conclusion"
      ],
      "metadata": {
        "id": "mBsuTVZzx2ox"
      }
    },
    {
      "cell_type": "markdown",
      "source": [
        "In conclusion, model rf3 will be the best for predicting user retention over 6 months because of the balance it provides both with accuracy and fitting our data correctly.\n",
        "\n",
        "Ultimate can use this to predict with 80% confidence that a user will be active in 6 months. We can also use the findings from exploring the data to improve our efforts. We saw that user's in Kings Landing had a much higher rate of active users after 6 months and iPhone users were much more likely to be active. Ultimate can focus efforts into marketing to these demographics and pushing users with > 10 rides in the first month to become Ultimate black users."
      ],
      "metadata": {
        "id": "iQcdllx8x5RC"
      }
    }
  ]
}